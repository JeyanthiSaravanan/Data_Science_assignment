{
 "cells": [
  {
   "cell_type": "markdown",
   "id": "651d8d5e-d027-4e78-abac-e12bb651d2bd",
   "metadata": {},
   "source": [
    "Q1.. What is multithreading in python? Why is it used? Name the module used to handle threads in python  \n",
    "Multithreading in Python is a popular technique that enables multiple tasks to be executed simultaneously.  \n",
    "In simple words, the ability of a processor to execute multiple threads simultaneously is known as multithreading.\n",
    "Python multithreading facilitates sharing data space and resources of multiple threads with the main thread. It allows efficient and easy communication between the threads.  \n",
    "\n",
    "There are two main modules of multithreading used to handle threads in Python.\n",
    "\n",
    "The thread module\n",
    "The threading module"
   ]
  },
  {
   "cell_type": "markdown",
   "id": "98e5beea-d6f0-43b3-abe1-42a935247cf5",
   "metadata": {},
   "source": [
    "Q2. Why threading module used? rite the use of the following functions\n",
    "( activeCount\n",
    " currentThread\n",
    " enumerate)\n",
    "\n",
    "With the Threading module in Python, which provides a very intuitive API for spawning threads, we can perform multithreading in Python quite effectively.  \n",
    "The threading module exposes all the methods of the thread module and provides some additional methods \n",
    "\n",
    "threading.activeCount() − Returns the number of thread objects that are active.\n",
    "\n",
    "threading.currentThread() − Returns the number of thread objects in the caller's thread control.\n",
    "\n",
    "threading.enumerate() − Returns a list of all thread objects that are currently active."
   ]
  },
  {
   "cell_type": "markdown",
   "id": "78b63149-c1b5-4c77-995f-cb8b655db1b9",
   "metadata": {},
   "source": [
    "3. Explain the following functions\n",
    "( run\n",
    " start\n",
    " join\n",
    "' isAlive)\n",
    "\n",
    "run()   \n",
    "A run() method is used to define a thread's activity and can be overridden by a class that extends the threads class. \n",
    "\n",
    "start()  \n",
    "A start() method is used to initiate the activity of a thread. And it calls only once for each thread so that the execution of the thread can begin.  \n",
    "\n",
    "join()\t \n",
    "A join() method is used to block the execution of another code until the thread terminates.  \n",
    "\n",
    "is_alive()  \n",
    "is_alive() method checks whether a thread is alive and returns a boolean value based on the thread status. "
   ]
  },
  {
   "cell_type": "markdown",
   "id": "5d0da5f0-6770-49b4-a6f2-d5779e62f764",
   "metadata": {},
   "source": [
    "Q4. Write a python program to create two threads. Thread one must print the list of squares and thread\n",
    "two must print the list of cubes"
   ]
  },
  {
   "cell_type": "code",
   "execution_count": 11,
   "id": "1363d3fd-29e6-4844-a5ed-44328782a150",
   "metadata": {},
   "outputs": [],
   "source": [
    "def square(num):\n",
    "    for i in num:\n",
    "        print(\"Square of {} =\".format(i),i**2)\n",
    "    \n",
    "def cube(num):\n",
    "    for i in num:\n",
    "          print(\"cube of {} =\".format(i), i**3)\n"
   ]
  },
  {
   "cell_type": "code",
   "execution_count": 12,
   "id": "5a43a3a5-f243-4d78-b26a-4e1bed576144",
   "metadata": {},
   "outputs": [],
   "source": [
    "num=[1,2,3,4,5,6,7,8,9,10]"
   ]
  },
  {
   "cell_type": "code",
   "execution_count": 13,
   "id": "edfe1ed4-a649-49a1-9251-45a67b97ea80",
   "metadata": {},
   "outputs": [
    {
     "name": "stdout",
     "output_type": "stream",
     "text": [
      "Square of 1 = 1\n",
      "Square of 2 = 4\n",
      "Square of 3 = 9\n",
      "Square of 4 = 16\n",
      "Square of 5 = 25\n",
      "Square of 6 = 36\n",
      "Square of 7 = 49\n",
      "Square of 8 = 64\n",
      "Square of 9 = 81\n",
      "Square of 10 = 100\n",
      "cube of 1 = 1\n",
      "cube of 2 = 8\n",
      "cube of 3 = 27\n",
      "cube of 4 = 64\n",
      "cube of 5 = 125\n",
      "cube of 6 = 216\n",
      "cube of 7 = 343\n",
      "cube of 8 = 512\n",
      "cube of 9 = 729\n",
      "cube of 10 = 1000\n"
     ]
    }
   ],
   "source": [
    "import threading\n",
    "square_thread=threading.Thread(target=square, args=(num,))\n",
    "cube_thread=threading.Thread(target=cube, args=(num,))\n",
    "square_thread.start()\n",
    "cube_thread.start()\n",
    "square_thread.join()\n",
    "cube_thread.join()"
   ]
  },
  {
   "cell_type": "markdown",
   "id": "f247e374-0777-4961-a7ab-7b6805ae64bd",
   "metadata": {},
   "source": [
    "Q5. State advantages and disadvantages of multithreading  \n",
    "Advantages: \n",
    "* Python multithreading enables efficient utilization of the resources as the threads share the data space and memory.\n",
    "* Multithreading in Python allows the concurrent and parallel occurrence of various tasks.\n",
    "* It causes a reduction in time consumption or response time, thereby increasing the performance \n",
    "\n",
    "Disadvantages:\n",
    "* Increases the complexity of the program.\n",
    "* Synchronization of shared resources (objects, data) is necessary.\n",
    "* Difficult to debug unpredictable results\n",
    "* Constructing and synchronizing threads is CPU/memory intensiv"
   ]
  },
  {
   "cell_type": "markdown",
   "id": "cb14112f-c91f-4066-84e7-343123ed858f",
   "metadata": {},
   "source": [
    "Q6. Explain deadlocks and race conditions.  \n",
    "Both share some similarities, such as they both occur in multi-thread solutions and hamper device performance. However, both are not the same.\n",
    "A race condition occurs when two threads use the same variable at a given time. Deadlock exists when two threads seek one lock simultaneously.  \n",
    "This situation will stop both threads from processing or executing the functions. In racing, two tasks compete with each other and try to complete a task before each other.\n",
    "In a deadlock, two processes are waiting and expecting the complementary process to complete the task."
   ]
  }
 ],
 "metadata": {
  "kernelspec": {
   "display_name": "Python 3 (ipykernel)",
   "language": "python",
   "name": "python3"
  },
  "language_info": {
   "codemirror_mode": {
    "name": "ipython",
    "version": 3
   },
   "file_extension": ".py",
   "mimetype": "text/x-python",
   "name": "python",
   "nbconvert_exporter": "python",
   "pygments_lexer": "ipython3",
   "version": "3.10.8"
  }
 },
 "nbformat": 4,
 "nbformat_minor": 5
}
