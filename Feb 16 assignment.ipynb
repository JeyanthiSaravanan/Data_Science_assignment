{
 "cells": [
  {
   "cell_type": "markdown",
   "id": "4ead9123-6f17-4aad-9909-bbd0ad5433e9",
   "metadata": {},
   "source": [
    "Q1. What is a database? Differentiate between SQL and NoSQL databases.  \n",
    "A database is a systematic or organized collection of related information that is stored in such a way that it can be easily accessed, retrieved, managed, and updated.  \n",
    "It is where all data is stored.  n a database, you can organize the data in rows and columns in the form of a table.  \n",
    "Indexing the data makes it easy to find and retrieve it again as and when required.   \n",
    "Many websites on the World Wide Web are managed with the help of databases.  \n",
    "##SQL  \n",
    "  * Stands for Structured Query Language\n",
    "  * Relational database management system (RDBMS)\n",
    "  *  Suitable for structured data with predefined schema\n",
    "  * Data is stored in tables with columns and rows\n",
    "  * Follows ACID properties (Atomicity, Consistency, Isolation, Durability) for transaction management\n",
    "  * Supports JOIN and complex queries\n",
    "  * Uses normalized data structure\n",
    "  * Requires vertical scaling to handle large volumes of data\n",
    "  * Examples: MySQL, PostgreSQL, Oracle, SQL Server, Microsoft SQL Server  \n",
    "##NOSQL\n",
    "\n",
    "  * Stands for Not Only SQL\n",
    "  * Non-relational database management system\n",
    "  * Suitable for unstructured and semi-structured data\n",
    "  * Data is stored in collections or documents\n",
    "  * Does not necessarily follow ACID properties\n",
    "  * Does not support JOIN and complex queries\n",
    "  * Uses denormalized data structure\n",
    "  * Horizontal scaling is possible to handle large volumes of data\n",
    "  * Examples: MongoDB, Cassandra, Couchbase, Amazon DynamoDB, Redis\n"
   ]
  },
  {
   "cell_type": "markdown",
   "id": "5980c38a-04b5-4735-8049-749546585f0a",
   "metadata": {},
   "source": [
    "Q2. What is DDL? Explain why CREATE, DROP, ALTER, and TRUNCATE are used with an example.  \n",
    "Data definition language (DDL) describes the portion of SQL that creates, alters, and deletes database objects.  \n",
    "These database objects include schemas, tables, views, sequences, catalogs, indexes, and aliases.  \n",
    "##CREATE\n",
    "Creating a database\n",
    "The following example demonstrates how the CREATE query can be used to create a database in MS SQL Server:\n",
    "\n",
    "CREATE DATABASE test;\n",
    "The script above creates a database named “test” in MS SQL Server.\n",
    "\n",
    "Creating a table\n",
    "The CREATE query is also used to add tables in an existing database as shown in the following script:\n",
    "    \n",
    "    CREATE TABLE test_table (C1 INT C2 VARCHAR(50))\n",
    "    \n",
    "##ALTER\n",
    "The ALTER command in SQL DDL is used to modify the structure of an already existing table.\n",
    "The ALTER TABLE command adds, deletes, or modifies columns in a table.\n",
    "\n",
    "The ALTER TABLE command also adds and deletes various constraints in a table.\n",
    "\n",
    "    ALTER TABLE test_table\n",
    "    ADD C3 VARCHAR(100);\n",
    "    ALTER COLUMN C2 INT;\n",
    "\n",
    "##DROP\n",
    "The DROP command is a type of SQL DDL command, that is used to delete an existing database or an object within a database.  \n",
    "Deleting a database\n",
    "The following DROP command deletes the \"test\" database that we created earlier:\n",
    "\n",
    "DROP DATABASE test;\n",
    "\n",
    "Deleting a table\n",
    "The DROP command is a type of SQL DDL command that is used to delete an existing table. For instance, the following command will delete the test_table:\n",
    "\n",
    "DROP TABLE test_table;\n",
    "\n",
    "##TRUNCATE\n",
    "The TRUNCATE TABLE command deletes the data inside a table, but not the table itself.  \n",
    "TRUNCATE TABLE test_table;\n"
   ]
  },
  {
   "cell_type": "markdown",
   "id": "7df47348-ec89-4c06-aa8c-c69ef2e040f1",
   "metadata": {},
   "source": [
    "Q3. What is DML? Explain INSERT, UPDATE, and DELETE with an example.  \n",
    "Data Manipulation Language (DML) commands in SQL deal with the manipulation of data records stored within the database tables.  \n",
    "It does not deal with changes to database objects and their structure. The commonly known DML commands are INSERT, UPDATE, and DELETE.  "
   ]
  },
  {
   "cell_type": "markdown",
   "id": "99575684-0084-460c-b6b2-58fe07da8352",
   "metadata": {},
   "source": [
    "INSERT commands in SQL are used to insert data records or rows in a database table.  \n",
    "In an INSERT statement, we specify both the column_names for which the entry has to be made along with the data value that has to be inserted.  \n",
    "\n",
    "    INSERT INTO Marks(Physics, Maths, Chemistry)\n",
    "    VALUES(68, 72, 85);  \n",
    "\n",
    "UPDATE  \n",
    "This command is used to make changes to the data in the table.\n",
    "\n",
    "    UPDATE Marks\n",
    "    SET Physics=70\n",
    "    WHERE Physics=68;\n",
    "\n",
    "DELETE  \n",
    "This command is used to remove a row from a table\n",
    " \n",
    "    DELETE FROM Marks\n",
    "    WHERE Physics=70;"
   ]
  },
  {
   "cell_type": "markdown",
   "id": "f24fe233-27b7-4e09-be44-1199c2aeb110",
   "metadata": {},
   "source": [
    "Q4. What is DQL? Explain SELECT with an example.  \n",
    "DQL(Data Query Language): Data query language consists of only one command upon which data selection in SQL relies. The SELECT command in combination with other SQL clauses is used to retrieve and fetch data from databases/tables based on certain conditions applied by the user.  \n",
    "\n",
    "The SELECT statement is used to select data from a database.  \n",
    "\n",
    "     SELECT Maths FROM Marks;\n",
    "The following SQL statement selects all the columns from the \"Customers\" table:\n",
    " \n",
    "    SELECT * FROM Marks;"
   ]
  },
  {
   "cell_type": "markdown",
   "id": "e5e3421c-ea7a-4afc-bbda-e5ff3d707552",
   "metadata": {},
   "source": [
    "Q5. Explain Primary Key and Foreign Key.  \n",
    "Primary Key: A primary key is used to ensure that data in the specific column is unique. A column cannot have NULL values. It is either an existing table column or a column that is specifically generated by the database according to a defined sequence.   \n",
    "Foreign Key: \n",
    "A foreign key is a column or group of columns in a relational database table that provides a link between data in two tables. It is a column (or columns) that references a column (most often the primary key) of another table. "
   ]
  },
  {
   "cell_type": "markdown",
   "id": "3c2967dc-4d33-4811-a815-5e997b4c4081",
   "metadata": {},
   "source": [
    "Q6. Write a python code to connect MySQL to python. Explain the cursor() and execute() method.  \n",
    "\n",
    "import mysql.connector\n",
    "\n",
    "mydb = mysql.connector.connect(  \n",
    "  host=\"localhost\",  \n",
    "  user=\"abc\",  \n",
    "  password=\"password\"  \n",
    ")  \n",
    "print(mydb)  \n",
    "\n",
    "cursor:A cursor is an object which helps to execute the query and fetch the records from the database  \n",
    "\n",
    "The execute () method helps us to execute the query and return records according to the query.  \n",
    "      \n",
    "      mycursor = mydb.cursor()\n",
    "      mycursor.execute(\"SHOW DATABASES\")"
   ]
  },
  {
   "cell_type": "markdown",
   "id": "6b87bca0-0d5b-4238-9d11-2a8d1f12deaf",
   "metadata": {},
   "source": [
    "Q7. Give the order of execution of SQL clauses in an SQL query.  \n",
    "SQL queries are made up of one or more clauses. A particular order must be followed to execute these clauses to obtain correct results.  \n",
    "This order of execution is known as SQL query execution order. SQL query execution order means optimizing our search results from the database or where the query clauses are evaluated according to the requirements.\n",
    "\n",
    "|Order\t|Clause|\tFunction|\n",
    "|------|-------|-------------|\n",
    "|1|\tFROM|\tTables are joined to get the base data.|\n",
    "|2|\tWHERE|\tThe base data is filtered.|\n",
    "|3|\tGROUP BY|\tThe filtered base data is grouped.|\n",
    "|4|\tHAVING|\tThe grouped base data is filtered.|\n",
    "|5|\tSELECT|\tThe final data is returned.|\n",
    "|6|\tORDER BY|\tThe final data is sorted.|\n",
    "|7|\tLIMIT|\tThe returned data is limited to row count.|"
   ]
  },
  {
   "cell_type": "code",
   "execution_count": null,
   "id": "1b873191-6828-4d2f-bb3f-e5045ed9163a",
   "metadata": {},
   "outputs": [],
   "source": []
  }
 ],
 "metadata": {
  "kernelspec": {
   "display_name": "Python 3 (ipykernel)",
   "language": "python",
   "name": "python3"
  },
  "language_info": {
   "codemirror_mode": {
    "name": "ipython",
    "version": 3
   },
   "file_extension": ".py",
   "mimetype": "text/x-python",
   "name": "python",
   "nbconvert_exporter": "python",
   "pygments_lexer": "ipython3",
   "version": "3.10.8"
  }
 },
 "nbformat": 4,
 "nbformat_minor": 5
}
