{
 "cells": [
  {
   "cell_type": "markdown",
   "id": "fca8f607-5bc9-4b17-9d4f-86a9e95e3ce6",
   "metadata": {},
   "source": [
    "1. Create a function which will take a list as an argument and return the product of all the numbers after creating a flat list.  Use the below given list as an argument for your function.  \n",
    "list1=[1,2,3,4,[44,55,66,True], False, (34,56,78,89,34), {1,2,3,3,2,1}, {1:34,\"key2\":[55,67,78,89],4:(45,22,61,34)}, [56, \"Data science\"], \"Machine learning\"]"
   ]
  },
  {
   "cell_type": "code",
   "execution_count": 33,
   "id": "cd1e88bf-235f-434e-8503-a43303027a60",
   "metadata": {},
   "outputs": [],
   "source": [
    "list1=[1,2,3,4,[44,55,66,True], False, (34,56,78,89,34), {1,2,3,3,2,1}, {1:34,\"key2\":[55,67,78,89],4:(45,22,61,34)}, [56, \"Data science\"], \"Machine learning\"]"
   ]
  },
  {
   "cell_type": "code",
   "execution_count": 73,
   "id": "ba48999b-e6f7-46ff-bfc6-c62e1ee5a151",
   "metadata": {},
   "outputs": [],
   "source": [
    "def flat_list(a):\n",
    "    flat=[]\n",
    "    for i in a:\n",
    "        \n",
    "        if isinstance(i, str):\n",
    "            flat.append(i)\n",
    "        elif isinstance(i, list):\n",
    "            for item in i:\n",
    "                flat.append(item)\n",
    "        elif isinstance(i, tuple):\n",
    "            for item in i:\n",
    "                flat.append(item)\n",
    "        elif isinstance(i, set):\n",
    "            for item in i:\n",
    "                flat.append(item)\n",
    "        elif isinstance(i, dict):\n",
    "            for key, val in i.items():\n",
    "                flat.append(key)\n",
    "                if isinstance(val, list):\n",
    "                    for x in val:\n",
    "                        flat.append(x)\n",
    "                elif isinstance(val, tuple):\n",
    "                    for x in val:\n",
    "                        flat.append(x)\n",
    "                else:\n",
    "                    flat.append(val)\n",
    "                                                 \n",
    "                 \n",
    "              \n",
    "        else:\n",
    "            flat.append(i)\n",
    "           \n",
    "    return flat"
   ]
  },
  {
   "cell_type": "code",
   "execution_count": 78,
   "id": "f72e026b-ddf3-4c33-b52a-fde21f4a347c",
   "metadata": {},
   "outputs": [],
   "source": [
    "fl=flat_list(list1)"
   ]
  },
  {
   "cell_type": "code",
   "execution_count": 79,
   "id": "f88265a4-59bb-46ba-8c99-9a37872e8457",
   "metadata": {},
   "outputs": [],
   "source": [
    "from functools import reduce"
   ]
  },
  {
   "cell_type": "code",
   "execution_count": 84,
   "id": "9b7de4e3-1f4c-4c8e-b76c-0faf25da9d58",
   "metadata": {},
   "outputs": [
    {
     "data": {
      "text/plain": [
       "[1,\n",
       " 2,\n",
       " 3,\n",
       " 4,\n",
       " 44,\n",
       " 55,\n",
       " 66,\n",
       " 34,\n",
       " 56,\n",
       " 78,\n",
       " 89,\n",
       " 34,\n",
       " 1,\n",
       " 2,\n",
       " 3,\n",
       " 1,\n",
       " 34,\n",
       " 55,\n",
       " 67,\n",
       " 78,\n",
       " 89,\n",
       " 4,\n",
       " 45,\n",
       " 22,\n",
       " 61,\n",
       " 34,\n",
       " 56]"
      ]
     },
     "execution_count": 84,
     "metadata": {},
     "output_type": "execute_result"
    }
   ],
   "source": [
    "list2=list(filter(lambda x: type(x)==int, fl))"
   ]
  },
  {
   "cell_type": "code",
   "execution_count": 85,
   "id": "e94ebf69-86c6-4af6-9595-3c48421eb7a5",
   "metadata": {},
   "outputs": [
    {
     "data": {
      "text/plain": [
       "4134711838987085478833841242112000"
      ]
     },
     "execution_count": 85,
     "metadata": {},
     "output_type": "execute_result"
    }
   ],
   "source": [
    "reduce(lambda x, y: x*y, list2)"
   ]
  },
  {
   "cell_type": "markdown",
   "id": "6465134f-4228-429f-af17-a37856b2aa93",
   "metadata": {},
   "source": [
    "Q2. Write a python program for encrypting a message sent to you by your friend. The logic of encryption\n",
    "should be such that, for a the output should be z. For b, the output should be y. For c, the output should\n",
    "be x respectively. Also, the whitespace should be replaced with a dollar sign. Keep the punctuation\n",
    "marks unchanged.\n",
    "Input Sentence: I want to become a Data Scientist.\n",
    "Encrypt the above input sentence using the program you just created."
   ]
  },
  {
   "cell_type": "code",
   "execution_count": 21,
   "id": "106f040f-2851-4c7a-b455-a83fd56031b1",
   "metadata": {},
   "outputs": [],
   "source": [
    "def encpt():\n",
    "    n=ord('a')+ord('z')\n",
    "    ans=\"\"\n",
    "    k=input(\"Enter the message:\").lower()\n",
    "    for i in range(len(k)):\n",
    "        ch=k[i]\n",
    "        if ch==\" \":\n",
    "            ans+=\"$\"\n",
    "        elif (ch.islower()):\n",
    "            ans+=chr(n-ord(ch))\n",
    "        else:\n",
    "            ans+=ch\n",
    "    return ans\n",
    "            \n",
    "            \n",
    "        \n",
    "             \n",
    "          \n",
    "    "
   ]
  },
  {
   "cell_type": "code",
   "execution_count": 22,
   "id": "622f763f-f035-4be7-92c7-c849aae28411",
   "metadata": {},
   "outputs": [
    {
     "name": "stdin",
     "output_type": "stream",
     "text": [
      "Enter the message: I want to become a Data Scientist.\n"
     ]
    },
    {
     "data": {
      "text/plain": [
       "'r$dzmg$gl$yvxlnv$z$wzgz$hxrvmgrhg.'"
      ]
     },
     "execution_count": 22,
     "metadata": {},
     "output_type": "execute_result"
    }
   ],
   "source": [
    "encpt()\n"
   ]
  }
 ],
 "metadata": {
  "kernelspec": {
   "display_name": "Python 3 (ipykernel)",
   "language": "python",
   "name": "python3"
  },
  "language_info": {
   "codemirror_mode": {
    "name": "ipython",
    "version": 3
   },
   "file_extension": ".py",
   "mimetype": "text/x-python",
   "name": "python",
   "nbconvert_exporter": "python",
   "pygments_lexer": "ipython3",
   "version": "3.10.8"
  }
 },
 "nbformat": 4,
 "nbformat_minor": 5
}
