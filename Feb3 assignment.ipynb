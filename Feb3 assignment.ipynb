{
 "cells": [
  {
   "cell_type": "markdown",
   "id": "42e11e25-5293-4b04-8fad-1678188f8a03",
   "metadata": {},
   "source": [
    "1) Which keyword is used to create a function? Create a function to return a list of odd numbers in the range of 1 to 25\n",
    "\n",
    "`def` keyword is used to create a function"
   ]
  },
  {
   "cell_type": "code",
   "execution_count": 1,
   "id": "c0cebefe-04a5-4b81-9600-76837e463a07",
   "metadata": {},
   "outputs": [],
   "source": [
    "def odd():\n",
    "    n= []\n",
    "    for i in range(1,26):\n",
    "        if i %2!=0:\n",
    "            n.append(i)\n",
    "    return n"
   ]
  },
  {
   "cell_type": "code",
   "execution_count": 3,
   "id": "d4e2954e-ab22-4a42-9587-8a9d42aeddfc",
   "metadata": {},
   "outputs": [
    {
     "data": {
      "text/plain": [
       "[1, 3, 5, 7, 9, 11, 13, 15, 17, 19, 21, 23, 25]"
      ]
     },
     "execution_count": 3,
     "metadata": {},
     "output_type": "execute_result"
    }
   ],
   "source": [
    "odd()"
   ]
  },
  {
   "cell_type": "markdown",
   "id": "67b11928-ad91-409f-af0f-78a3e76b3115",
   "metadata": {},
   "source": [
    "2. Why *args and **kwargs is used in some functions? Create a function each for *args amd **kwargs to demonstrate their use"
   ]
  },
  {
   "cell_type": "markdown",
   "id": "32f1e731-c43b-4946-8146-bc0b8e041aab",
   "metadata": {},
   "source": [
    "`*args` allows you to pass the desired number of arguments to the function. Args generally means arguments.\n",
    "The term `**Kwargs` generally represents keyword arguments, suggesting that this format uses keyword-based Python dictionaries."
   ]
  },
  {
   "cell_type": "code",
   "execution_count": 10,
   "id": "383adf8e-7e3c-49a9-b08a-85585502875f",
   "metadata": {},
   "outputs": [],
   "source": [
    "#args\n",
    "\n",
    "def total(*add):\n",
    "    sum=0\n",
    "    for i in add:\n",
    "        sum+=i\n",
    "    \n",
    "    return sum"
   ]
  },
  {
   "cell_type": "code",
   "execution_count": 11,
   "id": "5c237683-c1e9-49c0-b3e8-b37b3c869042",
   "metadata": {},
   "outputs": [
    {
     "data": {
      "text/plain": [
       "26"
      ]
     },
     "execution_count": 11,
     "metadata": {},
     "output_type": "execute_result"
    }
   ],
   "source": [
    "total(2,5,6,8,5)"
   ]
  },
  {
   "cell_type": "code",
   "execution_count": 20,
   "id": "140a853f-26b1-4628-8eb7-4d0a74b9a2d3",
   "metadata": {},
   "outputs": [],
   "source": [
    "#kwargs\n",
    "def sentence(**words):\n",
    "    return words"
   ]
  },
  {
   "cell_type": "code",
   "execution_count": 21,
   "id": "dbe8fcd5-7590-4496-b051-6e4776b05948",
   "metadata": {},
   "outputs": [
    {
     "data": {
      "text/plain": [
       "{'A': 'Apple', 'B': 'Ball', 'C': 'Cat'}"
      ]
     },
     "execution_count": 21,
     "metadata": {},
     "output_type": "execute_result"
    }
   ],
   "source": [
    "sentence(A=\"Apple\",B=\"Ball\", C='Cat')"
   ]
  },
  {
   "cell_type": "markdown",
   "id": "c5ba3ad4-213d-4cd0-9cff-eb8ddde09f1b",
   "metadata": {},
   "source": [
    "3. What is a iterator in python? Name the method used to initialise the iterator object and the method used for iteration.  \n",
    "Use these methods to print the first five elements of the given list [2,4,6,8,10,12,14,16,18,20]"
   ]
  },
  {
   "cell_type": "markdown",
   "id": "bedfa3b3-aa8c-40be-a764-1db82a6bf110",
   "metadata": {},
   "source": [
    "Iterator in Python is an object that is used to iterate over iterable objects like lists, tuples, dicts, and sets. we can loop through an object and return its elements.  \n",
    "Technically, a Python iterator object must implement two special methods, __iter__() and __next__(), collectively called the iterator protocol.  \n",
    "The iterator object is initialized using the iter() method. It uses the next() method for iteration.  \n",
    "__iter__(): The iter() method is called for the initialization of an iterator. This returns an iterator object  \n",
    "__next__(): The next method returns the next value for the iterable. When we use a for loop to traverse any iterable object, internally it uses the iter() method to get an iterator object, which further uses the next() method to iterate over. This method raises a StopIteration to signal the end of the iteration."
   ]
  },
  {
   "cell_type": "code",
   "execution_count": 22,
   "id": "5ac08cb1-5aa1-4523-8b9e-d5a96f50ae33",
   "metadata": {},
   "outputs": [],
   "source": [
    "my_list=[2,4,6,8,10,12,14,16,18,20]"
   ]
  },
  {
   "cell_type": "code",
   "execution_count": 26,
   "id": "f4dd014c-5f28-49fd-9edb-1ffd70ee0bd1",
   "metadata": {},
   "outputs": [],
   "source": [
    "def prog():\n",
    "    i=iter(my_list)\n",
    "    print(next(i))\n",
    "    print(next(i))\n",
    "    print(next(i))\n",
    "    print(next(i))\n",
    "    print(next(i))"
   ]
  },
  {
   "cell_type": "code",
   "execution_count": 27,
   "id": "73f53c14-7812-4619-8fef-2a3eda3114a0",
   "metadata": {},
   "outputs": [
    {
     "name": "stdout",
     "output_type": "stream",
     "text": [
      "2\n",
      "4\n",
      "6\n",
      "8\n",
      "10\n"
     ]
    }
   ],
   "source": [
    "prog()"
   ]
  },
  {
   "cell_type": "markdown",
   "id": "29842bf8-a4b1-45aa-b934-bc24e9b78416",
   "metadata": {},
   "source": [
    "4. What is a generator function in python? Why yield keyword is used? Give an example of a generator function."
   ]
  },
  {
   "cell_type": "markdown",
   "id": "3fd45df0-edfb-4939-97ff-870b45a61a50",
   "metadata": {},
   "source": [
    "In Python, similar to defining a normal function, we can define a generator function using the def keyword, but instead of the return statement we use the yield statement.  \n",
    "the __yield__ keyword is used to produce a value from the generator. A normal function to return a sequence will create the entire sequence in memory before returning the result. This is an overkill, if the number of items in the sequence is very large.\n",
    "\n",
    "Generator implementation of such sequences is memory friendly and is preferred since it only produces one item at a time. Since generators produce only one item at a time, they can represent an infinite stream of data."
   ]
  },
  {
   "cell_type": "code",
   "execution_count": 6,
   "id": "0601549a-edd6-43d3-9ebf-09a797b43c55",
   "metadata": {},
   "outputs": [],
   "source": [
    "#Example\n",
    "def gen():\n",
    "    n=1\n",
    "    while n<=5:\n",
    "        o=n*n\n",
    "        yield o\n",
    "        n+=1"
   ]
  },
  {
   "cell_type": "code",
   "execution_count": 7,
   "id": "da27bab6-44bb-4543-8d9e-0ca7a8698439",
   "metadata": {},
   "outputs": [
    {
     "name": "stdout",
     "output_type": "stream",
     "text": [
      "1\n",
      "4\n",
      "9\n",
      "16\n",
      "25\n"
     ]
    }
   ],
   "source": [
    "for i in gen():\n",
    "    print(i)"
   ]
  },
  {
   "cell_type": "markdown",
   "id": "5731ef0e-ee53-4ce6-ac88-484e31bc66bd",
   "metadata": {},
   "source": [
    "5. Create a generator function for prime numbers less than 1000. Use next method to print the first 20 prime numbers"
   ]
  },
  {
   "cell_type": "code",
   "execution_count": 35,
   "id": "45b4d6b5-338c-43ab-8855-21c7e4ef045d",
   "metadata": {},
   "outputs": [],
   "source": [
    "def get_first_primes(a):\n",
    "   number = 1\n",
    "   while number <= a:\n",
    "       if is_prime(number):\n",
    "           yield number\n",
    "       number += 1\n",
    "\n",
    "\n",
    "def is_prime(number):\n",
    "   if number > 1:\n",
    "       if number == 2:\n",
    "           return True\n",
    "       if number % 2 == 0:\n",
    "           return False\n",
    "       for current in range(3, ((number // 2) + 1), 2):\n",
    "           if number % current == 0:\n",
    "               return False\n",
    "       return True\n",
    "   return False"
   ]
  },
  {
   "cell_type": "code",
   "execution_count": 66,
   "id": "d87d6c55-5769-4b66-b293-9db33b1c00c7",
   "metadata": {},
   "outputs": [
    {
     "name": "stdout",
     "output_type": "stream",
     "text": [
      "2\n",
      "3\n",
      "5\n",
      "7\n",
      "11\n",
      "13\n",
      "17\n",
      "19\n",
      "23\n",
      "29\n",
      "31\n",
      "37\n",
      "41\n",
      "43\n",
      "47\n",
      "53\n",
      "59\n",
      "61\n",
      "67\n",
      "71\n"
     ]
    }
   ],
   "source": [
    "gen=get_first_primes(1000)\n",
    "for i in range(0,20):\n",
    "    print(next(gen))"
   ]
  },
  {
   "cell_type": "code",
   "execution_count": null,
   "id": "8964efb9-5b3e-4617-af78-b040827c51c0",
   "metadata": {},
   "outputs": [],
   "source": []
  }
 ],
 "metadata": {
  "kernelspec": {
   "display_name": "Python 3 (ipykernel)",
   "language": "python",
   "name": "python3"
  },
  "language_info": {
   "codemirror_mode": {
    "name": "ipython",
    "version": 3
   },
   "file_extension": ".py",
   "mimetype": "text/x-python",
   "name": "python",
   "nbconvert_exporter": "python",
   "pygments_lexer": "ipython3",
   "version": "3.10.8"
  }
 },
 "nbformat": 4,
 "nbformat_minor": 5
}
