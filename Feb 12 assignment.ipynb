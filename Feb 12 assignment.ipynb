{
 "cells": [
  {
   "cell_type": "code",
   "execution_count": null,
   "id": "b78a61f6-5f6d-4d6d-bf76-ef799cd62929",
   "metadata": {},
   "outputs": [],
   "source": [
    "Q1. What is exception in python? Write the difference between Exceptions and syntax errors?  \n",
    " \n"
   ]
  },
  {
   "cell_type": "markdown",
   "id": "e4dcd50d-f4bc-4409-a9d8-169608ba4719",
   "metadata": {},
   "source": [
    "An exception is an event, which occurs during the execution of a program that disrupts the normal flow of the program's instructions. In general, when a Python script encounters a situation that it cannot cope with, it raises an exception. An exception is a Python object that represents an error.  \n",
    "\n",
    "Syntax Error: As the name suggests this error is caused by the wrong syntax in the code. It leads to the termination of the program. \n",
    "Exceptions: Exceptions are raised when the program is syntactically correct, but the code results in an error. \n",
    "\n",
    "This error does not stop the execution of the program, however, it changes the normal flow of the program."
   ]
  },
  {
   "cell_type": "code",
   "execution_count": 1,
   "id": "4b20be1a-3105-4ebe-b6a8-d833af51abc5",
   "metadata": {},
   "outputs": [
    {
     "ename": "SyntaxError",
     "evalue": "expected ':' (3076923104.py, line 4)",
     "output_type": "error",
     "traceback": [
      "\u001b[0;36m  Cell \u001b[0;32mIn[1], line 4\u001b[0;36m\u001b[0m\n\u001b[0;31m    if age<12\u001b[0m\n\u001b[0m             ^\u001b[0m\n\u001b[0;31mSyntaxError\u001b[0m\u001b[0;31m:\u001b[0m expected ':'\n"
     ]
    }
   ],
   "source": [
    "#example\n",
    "#syntax error \n",
    "age=6\n",
    "if age<12\n",
    "   print(\"Kids\")\n",
    "#missing :"
   ]
  },
  {
   "cell_type": "code",
   "execution_count": 2,
   "id": "d46c923d-71ee-4109-8307-209691f315fb",
   "metadata": {},
   "outputs": [
    {
     "ename": "ZeroDivisionError",
     "evalue": "division by zero",
     "output_type": "error",
     "traceback": [
      "\u001b[0;31m---------------------------------------------------------------------------\u001b[0m",
      "\u001b[0;31mZeroDivisionError\u001b[0m                         Traceback (most recent call last)",
      "Cell \u001b[0;32mIn[2], line 3\u001b[0m\n\u001b[1;32m      1\u001b[0m \u001b[38;5;66;03m#Exception\u001b[39;00m\n\u001b[1;32m      2\u001b[0m a\u001b[38;5;241m=\u001b[39m\u001b[38;5;241m10\u001b[39m\n\u001b[0;32m----> 3\u001b[0m \u001b[38;5;28;01mif\u001b[39;00m \u001b[43ma\u001b[49m\u001b[38;5;241;43m/\u001b[39;49m\u001b[38;5;241;43m0\u001b[39;49m:\n\u001b[1;32m      4\u001b[0m     \u001b[38;5;28mprint\u001b[39m (a)\n",
      "\u001b[0;31mZeroDivisionError\u001b[0m: division by zero"
     ]
    }
   ],
   "source": [
    "#Exception\n",
    "a=10\n",
    "if a/0:\n",
    "    print (a)"
   ]
  },
  {
   "cell_type": "markdown",
   "id": "25b3b3fb-92f3-4f2f-97be-40d3c3cf8473",
   "metadata": {},
   "source": [
    "In the above code, even though the code syntax is correct, we are trying to divide a number by zero. So it raised ZeroDivisionError"
   ]
  },
  {
   "cell_type": "markdown",
   "id": "3460f384-e96c-4005-996e-bb5989f4b8a0",
   "metadata": {},
   "source": [
    "Q2. What happens when an exception is not handled? Explain with an example.\n",
    "\n",
    "If the exceptions are not handled, exceptions would disrupt the normal operation of a program and can lead to halt state or even a crash."
   ]
  },
  {
   "cell_type": "code",
   "execution_count": 5,
   "id": "b989a5e6-ff45-42c8-b0a6-36cd67832381",
   "metadata": {},
   "outputs": [
    {
     "name": "stdin",
     "output_type": "stream",
     "text": [
      "enter the 1st number 10\n",
      "enter the 2nd number 0\n"
     ]
    },
    {
     "name": "stdout",
     "output_type": "stream",
     "text": [
      "Error:Zero has been entered division by zero\n"
     ]
    }
   ],
   "source": [
    "# Exception handling\n",
    "def divide(a, b):\n",
    "   \n",
    "    return a/b\n",
    "try:\n",
    "    a=int(input(\"enter the 1st number\"))\n",
    "    b=int(input(\"enter the 2nd number\")) \n",
    "    print (\"Answer\", divide(a, b))\n",
    "except ZeroDivisionError as e:\n",
    "    print(\"Error:Zero has been entered\", e) #exception is handled here"
   ]
  },
  {
   "cell_type": "markdown",
   "id": "5b1151cf-49cc-4ef8-81c9-0e322ebd8118",
   "metadata": {},
   "source": [
    "Q3. Which python statements are used to catch and handle exceptions? Explain with an example\n",
    "\n",
    "try ---except  \n",
    "try ---else  \n",
    "try ---finally  "
   ]
  },
  {
   "cell_type": "code",
   "execution_count": 2,
   "id": "f26d8acc-84ff-4bb1-b243-1d22464c3765",
   "metadata": {},
   "outputs": [
    {
     "name": "stdin",
     "output_type": "stream",
     "text": [
      "enter the 1st number 10\n",
      "enter the 2nd number 0\n"
     ]
    },
    {
     "name": "stdout",
     "output_type": "stream",
     "text": [
      "Error:Zero has been entered division by zero\n",
      "Final code is executed\n"
     ]
    }
   ],
   "source": [
    "\n",
    "\n",
    " def divide(a,b):\n",
    "    return a/b\n",
    "try:\n",
    "    a=int(input(\"enter the 1st number\"))\n",
    "    b=int(input(\"enter the 2nd number\"))\n",
    "    print (\"Answer\", divide(a, b))\n",
    "    # Executed if an error is raised by the try block\n",
    "    # Handle exception here\n",
    "except ZeroDivisionError as e:\n",
    "    print(\"Error:Zero has been entered\", e)\n",
    "else:\n",
    "     # OPTIONAL & Executed if no exceptions are raised\n",
    "    print(\"No exceptions raised\")\n",
    "    \n",
    "    #the finally block is always executed no matter whether there is an exception or not.\n",
    "finally:\n",
    "    print(\"Final code is executed\")"
   ]
  },
  {
   "cell_type": "markdown",
   "id": "a5a898ce-d2f7-42df-a1be-ff6c77843d2d",
   "metadata": {},
   "source": [
    "Q4. Explain with an example  \n"
   ]
  },
  {
   "cell_type": "code",
   "execution_count": 24,
   "id": "8f5ea3d9-828f-4340-a346-8a7fde68d53a",
   "metadata": {},
   "outputs": [],
   "source": [
    "#a. try and else\n",
    "def func(file):\n",
    "    try:\n",
    "        f=open(file, \"r\")\n",
    "        read_content=f.read()\n",
    "        print(read_content)\n",
    "        f.close()\n",
    "        \n",
    "    except FileNotFoundError as e:\n",
    "        print(\"No such file found\", e)\n",
    "\n",
    "#if no exceptions are raised in the try block then else block will be executed\n",
    "    \n",
    "    else:\n",
    "        print(\"No exceptions! you can read the file\")\n"
   ]
  },
  {
   "cell_type": "code",
   "execution_count": 25,
   "id": "22756570-9899-4b3a-a387-b289ad0108b1",
   "metadata": {},
   "outputs": [
    {
     "name": "stdout",
     "output_type": "stream",
     "text": [
      "Hakuna Matata\n",
      " Just keep swimming\n",
      " Adventure is out there\n",
      " Just keep swimming\n",
      " Adventure is out there\n",
      "No exceptions! you can read the file\n"
     ]
    }
   ],
   "source": [
    "func(\"newtest.txt\")"
   ]
  },
  {
   "cell_type": "code",
   "execution_count": 26,
   "id": "acacaf85-44e7-4d07-a7a5-fd21873bfba6",
   "metadata": {},
   "outputs": [
    {
     "name": "stdout",
     "output_type": "stream",
     "text": [
      "No such file found [Errno 2] No such file or directory: 'newtest2.txt'\n"
     ]
    }
   ],
   "source": [
    "func(\"newtest2.txt\")"
   ]
  },
  {
   "cell_type": "code",
   "execution_count": 27,
   "id": "6adc071e-4624-4b20-8da8-cdcd83889f95",
   "metadata": {},
   "outputs": [
    {
     "name": "stdout",
     "output_type": "stream",
     "text": [
      "Hi everyone\n"
     ]
    }
   ],
   "source": [
    "#b.finally\n",
    "\n",
    "try:\n",
    "    file1 = open(\"test.txt\", \"r\")\n",
    "    read_content = file1.read()\n",
    "    print(read_content)\n",
    "except FileNotFoundError as e:\n",
    "        print(\"No such file found\", e)\n",
    "finally:\n",
    "    # close the file\n",
    "    file1.close()   "
   ]
  },
  {
   "cell_type": "code",
   "execution_count": 31,
   "id": "2b396aed-c9b9-406b-89e3-b9819a387c97",
   "metadata": {},
   "outputs": [],
   "source": [
    "#raise\n",
    "class VotingPerson(Exception):\n",
    "\n",
    "    def __inti__(self, name, id, age):\n",
    "       self.name = name\n",
    "       self.id = id\n",
    "       self.age = age"
   ]
  },
  {
   "cell_type": "code",
   "execution_count": 32,
   "id": "8958ae35-a113-442a-9c80-6c487b9cd79b",
   "metadata": {},
   "outputs": [
    {
     "name": "stdin",
     "output_type": "stream",
     "text": [
      "Enter name Angela\n",
      "Enter id 4958484\n",
      "Enter age 17\n"
     ]
    },
    {
     "name": "stdout",
     "output_type": "stream",
     "text": [
      "Sorry you are not eligible for voting \n"
     ]
    }
   ],
   "source": [
    "try:\n",
    "    name = input(\"Enter name\")\n",
    "    id = int(input(\"Enter id\"))\n",
    "    age = int(input(\"Enter age\"))\n",
    "    if age<18 :\n",
    "        raise VotingPerson\n",
    "    vote1 = VotingPerson(name,id,age)\n",
    "    print(\"Thanks for Voting\")\n",
    "except Exception as e:\n",
    "    print(\"Sorry you are not eligible for voting\",e)"
   ]
  },
  {
   "cell_type": "markdown",
   "id": "f6bff58e-03e0-4d34-ae57-79781c2b713f",
   "metadata": {},
   "source": [
    "Q5. What are custom exceptions in python? Why do we need Custom exceptions? Explain with an example."
   ]
  },
  {
   "cell_type": "markdown",
   "id": "f3364d6d-c8ea-4933-8e29-cca1e7d955cb",
   "metadata": {},
   "source": [
    "In Python, we can define custom exceptions by creating a new class that is derived from the built-in Exception class.  \n",
    "Built-in exceptions offer information about Python-related problems, and custom exceptions will add information about project-related problems. That way, we can design our code and traceback, if an exception is raised) in a way that combines Python code with the language of the project"
   ]
  },
  {
   "cell_type": "code",
   "execution_count": 3,
   "id": "971a5ae9-cbcc-43cc-a170-bfea1bee29ce",
   "metadata": {},
   "outputs": [],
   "source": [
    "class Invaliddata(Exception):\n",
    "    pass"
   ]
  },
  {
   "cell_type": "code",
   "execution_count": 5,
   "id": "32f0302a-483f-4d7c-83c5-aa98c7981158",
   "metadata": {},
   "outputs": [
    {
     "name": "stdin",
     "output_type": "stream",
     "text": [
      "Enter the marks -75\n"
     ]
    },
    {
     "name": "stdout",
     "output_type": "stream",
     "text": [
      "Invalidentry\n"
     ]
    }
   ],
   "source": [
    "marks= int(input(\"Enter the marks\"))\n",
    "try:\n",
    "    if marks<0 or marks>100:\n",
    "           raise Invaliddata\n",
    "except Invaliddata:\n",
    "           print(\"Invalidentry\")\n",
    "     #if we enter a negative number or a number thats above 100 the system will not throw an error. But for our requirement we need the marks to be inbetween 0 and 100. So we can customize the exceptions for our needs\n",
    "    \n",
    "           "
   ]
  },
  {
   "cell_type": "markdown",
   "id": "39a3606f-5c53-4757-9f1c-68f87f7c7150",
   "metadata": {},
   "source": [
    "Q6. Create a custom exception class. Use this to handle an exception."
   ]
  },
  {
   "cell_type": "code",
   "execution_count": 33,
   "id": "b6f1daf1-2144-453b-ba96-b976bdd4beca",
   "metadata": {},
   "outputs": [],
   "source": [
    "class error(Exception):  #Base class for all the exceptions\n",
    "    def __inti__(self,msg):\n",
    "        self.msg=msg\n",
    "        "
   ]
  },
  {
   "cell_type": "code",
   "execution_count": 35,
   "id": "707c9180-bbc6-4404-ab6d-e37385618219",
   "metadata": {},
   "outputs": [],
   "source": [
    "def diff():\n",
    "    try:\n",
    "        a=int(input(\"Enter a\"))\n",
    "        b=int(input(\"Enter b\"))\n",
    "        c=a-b\n",
    "        if c<0:  #we need the result to be a positive number. if the c value is a negative number, we can throw an exception\n",
    "            raise error(\"Negative result\") # exception raised \n",
    "        else:\n",
    "            print(c)\n",
    "    except Exception as e:\n",
    "        print(e)"
   ]
  },
  {
   "cell_type": "code",
   "execution_count": 36,
   "id": "7a3f20ba-183d-40e6-a13c-6218333632e8",
   "metadata": {},
   "outputs": [
    {
     "name": "stdin",
     "output_type": "stream",
     "text": [
      "Enter a 10\n",
      "Enter b 20\n"
     ]
    },
    {
     "name": "stdout",
     "output_type": "stream",
     "text": [
      "Negative result\n"
     ]
    }
   ],
   "source": [
    "diff()"
   ]
  }
 ],
 "metadata": {
  "kernelspec": {
   "display_name": "Python 3 (ipykernel)",
   "language": "python",
   "name": "python3"
  },
  "language_info": {
   "codemirror_mode": {
    "name": "ipython",
    "version": 3
   },
   "file_extension": ".py",
   "mimetype": "text/x-python",
   "name": "python",
   "nbconvert_exporter": "python",
   "pygments_lexer": "ipython3",
   "version": "3.10.8"
  }
 },
 "nbformat": 4,
 "nbformat_minor": 5
}
