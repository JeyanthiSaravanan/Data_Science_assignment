{
 "cells": [
  {
   "cell_type": "markdown",
   "id": "3ddb341a-7581-4152-85b8-f800493f29a7",
   "metadata": {},
   "source": [
    "Q1. You are writing code for a company. The requirement of the company is that you create a python\n",
    "function that will check whether the password entered by the user is correct or not. The function should\n",
    "take the password as input and return the string “Valid Password” if the entered password follows the\n",
    "below-given password guidelines else it should return “Invalid Password”.\n",
    "Note: 1. The Password should contain at least two uppercase letters and at least two lowercase letters.\n",
    "2. The Password should contain at least a number and three special characters.\n",
    "3. The length of the password should be 10 characters long."
   ]
  },
  {
   "cell_type": "code",
   "execution_count": 33,
   "id": "e0c59dbc-22d4-499b-bdc9-e9b47b1b2221",
   "metadata": {},
   "outputs": [],
   "source": [
    "def password():\n",
    "    pw=str(input(\"Enter the password: \"))\n",
    "    while True:\n",
    "            if len(pw)<10:\n",
    "                print(\"Invalid Password\")\n",
    "                break\n",
    "            elif sum(i.islower() for i in pw)<2:\n",
    "                print(\"Invalid Password\")\n",
    "                break\n",
    "            elif sum(i.isdigit() for i in pw)==0:\n",
    "                print(\"Invalid Password\")\n",
    "                break\n",
    "                \n",
    "            elif sum(i.isupper() for i in pw)<2:\n",
    "                print(\"Invalid Password\")\n",
    "                break\n",
    "            elif sum(not(i.isalnum()) for i in pw)<3:\n",
    "                print(\"Invalid Password\")\n",
    "                break\n",
    "            else:\n",
    "                print(\"Valid Password\")\n",
    "            break\n",
    "    \n",
    "                           "
   ]
  },
  {
   "cell_type": "code",
   "execution_count": 40,
   "id": "3719718f-d166-4050-ad57-62f7215e0134",
   "metadata": {},
   "outputs": [
    {
     "name": "stdin",
     "output_type": "stream",
     "text": [
      "Enter the password:  #paSS@word101$\n"
     ]
    },
    {
     "name": "stdout",
     "output_type": "stream",
     "text": [
      "Valid Password\n"
     ]
    }
   ],
   "source": [
    "password()"
   ]
  },
  {
   "cell_type": "markdown",
   "id": "da4bcd90-5983-44fa-9d0b-c228e6ce2855",
   "metadata": {},
   "source": [
    "Q2. Solve the below-given questions using at least one of the following:\n",
    "1. Lambda functioJ\n",
    "2. Filter functioJ\n",
    "3. Zap functioJ\n",
    "4. List ComprehensioI"
   ]
  },
  {
   "cell_type": "code",
   "execution_count": 46,
   "id": "fd84172d-9a6b-41f1-a98a-27e4e362bc53",
   "metadata": {},
   "outputs": [],
   "source": [
    "#Check if the string starts with a particular letter\n",
    "string=lambda x: True if x.startswith(\"M\") else False"
   ]
  },
  {
   "cell_type": "code",
   "execution_count": 47,
   "id": "cb16c2fe-9b13-4d68-9e95-62e66fc2674c",
   "metadata": {},
   "outputs": [
    {
     "data": {
      "text/plain": [
       "True"
      ]
     },
     "execution_count": 47,
     "metadata": {},
     "output_type": "execute_result"
    }
   ],
   "source": [
    "string(\"Mango\")"
   ]
  },
  {
   "cell_type": "code",
   "execution_count": 48,
   "id": "18f81bc3-dcd7-45bd-825f-4913b717888e",
   "metadata": {},
   "outputs": [
    {
     "data": {
      "text/plain": [
       "False"
      ]
     },
     "execution_count": 48,
     "metadata": {},
     "output_type": "execute_result"
    }
   ],
   "source": [
    "string(\"Apple\")"
   ]
  },
  {
   "cell_type": "code",
   "execution_count": 52,
   "id": "cfb954ad-53c0-45bb-8467-d809b0474e07",
   "metadata": {},
   "outputs": [],
   "source": [
    "#Check if the string is numeric\n",
    "string2=lambda x: True if x.isnumeric() else False"
   ]
  },
  {
   "cell_type": "code",
   "execution_count": 53,
   "id": "ef88c040-01d7-4c6c-8981-c86d5cc1873c",
   "metadata": {},
   "outputs": [
    {
     "data": {
      "text/plain": [
       "True"
      ]
     },
     "execution_count": 53,
     "metadata": {},
     "output_type": "execute_result"
    }
   ],
   "source": [
    "string2(\"02947472\")"
   ]
  },
  {
   "cell_type": "code",
   "execution_count": 54,
   "id": "ff75a868-d01f-4f34-80bf-8321fc5b8cb3",
   "metadata": {},
   "outputs": [
    {
     "data": {
      "text/plain": [
       "False"
      ]
     },
     "execution_count": 54,
     "metadata": {},
     "output_type": "execute_result"
    }
   ],
   "source": [
    "string2(\"lsjd2\")"
   ]
  },
  {
   "cell_type": "code",
   "execution_count": 55,
   "id": "07ff945c-91a8-404d-ab3b-e2fb4f447ba8",
   "metadata": {},
   "outputs": [
    {
     "name": "stdout",
     "output_type": "stream",
     "text": [
      "[('orange', 80), ('mango', 99), ('grapes', 1000)]\n"
     ]
    }
   ],
   "source": [
    "#Sort a list of tuples having fruit names and their quantity. [(\"mango\",99),(\"orange\",80), (\"grapes\", 1000)-\n",
    "example=[(\"mango\",99),(\"orange\",80), (\"grapes\", 1000)]\n",
    "example.sort(key=lambda a: a[1])\n",
    "print(example)"
   ]
  },
  {
   "cell_type": "code",
   "execution_count": 73,
   "id": "da01487c-bdb3-40cb-ac02-2ab7f2cd26ea",
   "metadata": {},
   "outputs": [],
   "source": [
    "#Find the squares of numbers from 1 to 10\n",
    "square=[i**2 for i in range(1,11)]"
   ]
  },
  {
   "cell_type": "code",
   "execution_count": 74,
   "id": "bb25a481-9acf-4ee5-a939-f7f5bfe0de8c",
   "metadata": {},
   "outputs": [
    {
     "data": {
      "text/plain": [
       "[1, 4, 9, 16, 25, 36, 49, 64, 81, 100]"
      ]
     },
     "execution_count": 74,
     "metadata": {},
     "output_type": "execute_result"
    }
   ],
   "source": [
    "square"
   ]
  },
  {
   "cell_type": "code",
   "execution_count": 75,
   "id": "2dfce175-47a0-4a58-adb9-109462368087",
   "metadata": {},
   "outputs": [],
   "source": [
    "#Find the cube root of numbers from 1 to 10\n",
    "cube_root=[i**(1/3) for i in range(1,11)]"
   ]
  },
  {
   "cell_type": "code",
   "execution_count": 76,
   "id": "26f5a22c-6631-4b24-83cb-7a9d7fd829b4",
   "metadata": {},
   "outputs": [
    {
     "data": {
      "text/plain": [
       "[1.0,\n",
       " 1.2599210498948732,\n",
       " 1.4422495703074083,\n",
       " 1.5874010519681994,\n",
       " 1.7099759466766968,\n",
       " 1.8171205928321397,\n",
       " 1.912931182772389,\n",
       " 2.0,\n",
       " 2.080083823051904,\n",
       " 2.154434690031884]"
      ]
     },
     "execution_count": 76,
     "metadata": {},
     "output_type": "execute_result"
    }
   ],
   "source": [
    "cube_root"
   ]
  },
  {
   "cell_type": "code",
   "execution_count": 60,
   "id": "7061512c-2d2b-4602-9cb6-238da10face1",
   "metadata": {},
   "outputs": [],
   "source": [
    "#Check if a given number is even\n",
    "number=lambda x:\"even\" if x%2==0 else \"No\""
   ]
  },
  {
   "cell_type": "code",
   "execution_count": 61,
   "id": "152df1f4-40f7-4a87-8e6f-17e67f65fad4",
   "metadata": {},
   "outputs": [
    {
     "data": {
      "text/plain": [
       "'even'"
      ]
     },
     "execution_count": 61,
     "metadata": {},
     "output_type": "execute_result"
    }
   ],
   "source": [
    "number(4)"
   ]
  },
  {
   "cell_type": "code",
   "execution_count": 63,
   "id": "3d2afcbc-0a5a-4f55-80de-95308c1133fd",
   "metadata": {},
   "outputs": [
    {
     "data": {
      "text/plain": [
       "'No'"
      ]
     },
     "execution_count": 63,
     "metadata": {},
     "output_type": "execute_result"
    }
   ],
   "source": [
    "number(43)"
   ]
  },
  {
   "cell_type": "code",
   "execution_count": 65,
   "id": "04760a0c-f333-4707-99ae-df6c62e41b44",
   "metadata": {},
   "outputs": [],
   "source": [
    "#Filter odd numbers from the given list.\n",
    "lst=[1,2,3,4,5,6,7,8,9,10]\n",
    "odd_numbers=filter(lambda x: x%2!=0,lst)"
   ]
  },
  {
   "cell_type": "code",
   "execution_count": 68,
   "id": "fb5635b0-cbb6-4207-a630-1403ef26ac91",
   "metadata": {},
   "outputs": [
    {
     "name": "stdout",
     "output_type": "stream",
     "text": [
      "[1, 3, 5, 7, 9]\n"
     ]
    }
   ],
   "source": [
    "print(list(odd_numbers))"
   ]
  },
  {
   "cell_type": "code",
   "execution_count": 71,
   "id": "429106b2-4e5d-4dfb-aaab-886069143bd2",
   "metadata": {},
   "outputs": [],
   "source": [
    "#Sort a list of integers into positive and negative integers lists.\n",
    "lst2=[1,2,3,4,5,6,-1,-2,-3,-4,-5,0]\n",
    "sorted_list=sorted(lst2, key=lambda x: 0 if x==0 else -1/x)"
   ]
  },
  {
   "cell_type": "code",
   "execution_count": 72,
   "id": "6fba19ff-5480-4400-8e10-2ac24e6c886b",
   "metadata": {},
   "outputs": [
    {
     "data": {
      "text/plain": [
       "[1, 2, 3, 4, 5, 6, 0, -5, -4, -3, -2, -1]"
      ]
     },
     "execution_count": 72,
     "metadata": {},
     "output_type": "execute_result"
    }
   ],
   "source": [
    "sorted_list"
   ]
  },
  {
   "cell_type": "code",
   "execution_count": null,
   "id": "4a231717-c195-4594-8245-91128f38f8cd",
   "metadata": {},
   "outputs": [],
   "source": []
  }
 ],
 "metadata": {
  "kernelspec": {
   "display_name": "Python 3 (ipykernel)",
   "language": "python",
   "name": "python3"
  },
  "language_info": {
   "codemirror_mode": {
    "name": "ipython",
    "version": 3
   },
   "file_extension": ".py",
   "mimetype": "text/x-python",
   "name": "python",
   "nbconvert_exporter": "python",
   "pygments_lexer": "ipython3",
   "version": "3.10.8"
  }
 },
 "nbformat": 4,
 "nbformat_minor": 5
}
