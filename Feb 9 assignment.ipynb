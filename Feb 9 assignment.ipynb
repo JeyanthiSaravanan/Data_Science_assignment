{
 "cells": [
  {
   "cell_type": "markdown",
   "id": "3bf5ae2b-f01e-4239-82d7-d22db4e58674",
   "metadata": {},
   "source": [
    "Q1, Create a vehicle class with an init method having instance variables as name_of_vehicle, max_speed\n",
    "and average_of_vehicle."
   ]
  },
  {
   "cell_type": "code",
   "execution_count": 10,
   "id": "bd3a41e2-e56e-4711-bc8e-48e4b791d9f0",
   "metadata": {},
   "outputs": [],
   "source": [
    "class vehicle:\n",
    "    def __init__(self, name_of_vehicle,max_speed,average_of_vehicle):\n",
    "        self.name_of_vehicle=name_of_vehicle\n",
    "        self.max_speed=max_speed\n",
    "        self.average_of_vehicle=average_of_vehicle\n",
    "    def vehicle_details(self):\n",
    "        print(\"Name of the vehicle: \",self.name_of_vehicle, \"Max speed :\",self.max_speed,\"Average_of_vehicle:\",self.average_of_vehicle)\n",
    "        "
   ]
  },
  {
   "cell_type": "code",
   "execution_count": 11,
   "id": "e62e3314-97a4-4ae7-a205-aa9fc9b58a6a",
   "metadata": {},
   "outputs": [],
   "source": [
    "veh=vehicle(\"Car\", \"40Km/h\", \"30Km/h\")"
   ]
  },
  {
   "cell_type": "code",
   "execution_count": 5,
   "id": "29a862b3-cfb8-4ce1-ad34-f43f2cbc0a01",
   "metadata": {},
   "outputs": [
    {
     "data": {
      "text/plain": [
       "'40Km/h'"
      ]
     },
     "execution_count": 5,
     "metadata": {},
     "output_type": "execute_result"
    }
   ],
   "source": [
    "veh.max_speed"
   ]
  },
  {
   "cell_type": "code",
   "execution_count": 7,
   "id": "1e9d4001-a99b-46fc-80e2-42a37823031f",
   "metadata": {},
   "outputs": [
    {
     "name": "stdout",
     "output_type": "stream",
     "text": [
      "Name of the vehicle:  Car Max speed : 40Km/h Average_of_vehicle: 30Km/h\n"
     ]
    }
   ],
   "source": [
    "veh.vehicle_details()"
   ]
  },
  {
   "cell_type": "markdown",
   "id": "485e0ba9-0329-4694-971b-ab3612071115",
   "metadata": {},
   "source": [
    "Q2. Create a child class car from the vehicle class created in Que 1, which will inherit the vehicle class.\n",
    "Create a method named seating_capacity which takes capacity as an argument and returns the name of\n",
    "the vehicle and its seating capacity."
   ]
  },
  {
   "cell_type": "code",
   "execution_count": 18,
   "id": "2976c9f9-1c5b-4b89-b78d-505f10b77c83",
   "metadata": {},
   "outputs": [],
   "source": [
    "class car(vehicle):\n",
    "    def __init__(self):\n",
    "        vehicle.__init__(self, \"Car\", \"40Km/h\", \"30Km/h\")\n",
    "    def seating_capacity(self, capacity):\n",
    "        self.capacity=capacity\n",
    "        return \"Vehicle name: \", self.name_of_vehicle, \"Seating capacity: \", self.capacity"
   ]
  },
  {
   "cell_type": "code",
   "execution_count": 19,
   "id": "f7636e81-9e59-4618-bf91-66be3e41a697",
   "metadata": {},
   "outputs": [],
   "source": [
    "veh_info=car()"
   ]
  },
  {
   "cell_type": "code",
   "execution_count": 20,
   "id": "023088f6-3894-4b26-85e0-f211153eccb7",
   "metadata": {},
   "outputs": [
    {
     "data": {
      "text/plain": [
       "('Vehicle name: ', 'Car', 'Seating capacity: ', 7)"
      ]
     },
     "execution_count": 20,
     "metadata": {},
     "output_type": "execute_result"
    }
   ],
   "source": [
    "veh_info.seating_capacity(7)"
   ]
  },
  {
   "cell_type": "markdown",
   "id": "b9479e68-699d-4bb8-8534-deb27c1d3708",
   "metadata": {},
   "source": [
    "Q3. What is multiple inheritance? Write a python code to demonstrate multiple inheritance."
   ]
  },
  {
   "cell_type": "markdown",
   "id": "92092a9f-9558-4cf2-b9e1-2d6fac85c92a",
   "metadata": {},
   "source": [
    "A class can be derived from more than one superclass in Python. This is called multiple inheritance."
   ]
  },
  {
   "cell_type": "code",
   "execution_count": 21,
   "id": "5e58ad22-499d-41b2-a0a9-f1994e666701",
   "metadata": {},
   "outputs": [],
   "source": [
    "#Multiple inheritance:\n",
    "class Grandfather:\n",
    "    def func3(self):\n",
    "        print(\"Grandfather name: Kumar\")\n",
    "class father:\n",
    "    def func(self):\n",
    "        print(\"Father name: Mohan\")\n",
    "class child(father, Grandfather):\n",
    "     def func1(self):\n",
    "        print(\"Child name: Rohan\")"
   ]
  },
  {
   "cell_type": "code",
   "execution_count": 22,
   "id": "f322f134-a7dc-4bb9-a5a2-c3721ad2838c",
   "metadata": {},
   "outputs": [],
   "source": [
    "family=child()"
   ]
  },
  {
   "cell_type": "code",
   "execution_count": 24,
   "id": "52327400-c90f-416a-ba0e-816c23f151ef",
   "metadata": {},
   "outputs": [
    {
     "name": "stdout",
     "output_type": "stream",
     "text": [
      "Grandfather name: Kumar\n",
      "Father name: Mohan\n",
      "Child name: Rohan\n"
     ]
    }
   ],
   "source": [
    "family.func3()\n",
    "family.func()\n",
    "family.func1()"
   ]
  },
  {
   "cell_type": "markdown",
   "id": "1f77f3ee-3306-40dc-8c0d-9a230c44bc67",
   "metadata": {},
   "source": [
    "Q4. What are getter and setter in python? Create a class and create a getter and a setter method in this\n",
    "class."
   ]
  },
  {
   "cell_type": "markdown",
   "id": "30c306f4-2bb1-466d-b59a-9eac7e7ac16a",
   "metadata": {},
   "source": [
    "A getter is a method that gets the value of a property. In OOPs this helps to access private attributes from a class.\n",
    "\n",
    "A setter is a method that sets the value of a property. In OOPs this helps to set the value to private attributes in a class.\n",
    "\n",
    "Basically, using getters and setters ensures data encapsulation"
   ]
  },
  {
   "cell_type": "code",
   "execution_count": 38,
   "id": "512288ef-e626-47f3-8fa3-983502526b9e",
   "metadata": {},
   "outputs": [],
   "source": [
    "class employee:\n",
    "    def __init__(self, name, designation, salary):\n",
    "        self.name=name\n",
    "        self.__designation=designation\n",
    "        self.__salary=salary\n",
    "    @property\n",
    "    def employee_details_access(self):\n",
    "        return self.__salary, self.__designation\n",
    "    \n",
    "    @employee_details_access.setter\n",
    "    def employee_details_set(self, salary):\n",
    "        if self.__designation==\"Manager\":\n",
    "            self.__salary=salary\n",
    "        else:\n",
    "            pass"
   ]
  },
  {
   "cell_type": "code",
   "execution_count": 41,
   "id": "bb5f5be0-5d9b-4f2e-a079-46dab8a13ec8",
   "metadata": {},
   "outputs": [],
   "source": [
    "emp1=employee(\"Mohan\", \"Manager\", 50000)"
   ]
  },
  {
   "cell_type": "code",
   "execution_count": 42,
   "id": "3437c17e-a318-4c02-9216-d6a0f0855267",
   "metadata": {},
   "outputs": [
    {
     "data": {
      "text/plain": [
       "(50000, 'Manager')"
      ]
     },
     "execution_count": 42,
     "metadata": {},
     "output_type": "execute_result"
    }
   ],
   "source": [
    "emp1.employee_details_access\n"
   ]
  },
  {
   "cell_type": "code",
   "execution_count": 43,
   "id": "73b04198-b7b7-4244-b6ff-06cd3132fab2",
   "metadata": {},
   "outputs": [],
   "source": [
    "emp1.employee_details_set=65000"
   ]
  },
  {
   "cell_type": "code",
   "execution_count": 44,
   "id": "bb206e24-a55f-4657-a6c3-c5358e3b3fad",
   "metadata": {},
   "outputs": [
    {
     "data": {
      "text/plain": [
       "(65000, 'Manager')"
      ]
     },
     "execution_count": 44,
     "metadata": {},
     "output_type": "execute_result"
    }
   ],
   "source": [
    "emp1.employee_details_access"
   ]
  },
  {
   "cell_type": "code",
   "execution_count": 45,
   "id": "86f3db78-2e95-4935-b1bf-36374d48b62c",
   "metadata": {},
   "outputs": [],
   "source": [
    "emp1=employee(\"Raj\", \"Editor\", 50000)"
   ]
  },
  {
   "cell_type": "code",
   "execution_count": 46,
   "id": "43b63317-d7d1-4401-add2-a4cd12215ebc",
   "metadata": {},
   "outputs": [
    {
     "data": {
      "text/plain": [
       "(50000, 'Editor')"
      ]
     },
     "execution_count": 46,
     "metadata": {},
     "output_type": "execute_result"
    }
   ],
   "source": [
    "emp1.employee_details_access"
   ]
  },
  {
   "cell_type": "code",
   "execution_count": 47,
   "id": "1839bf0a-3873-42d5-b590-ad92657cce5d",
   "metadata": {},
   "outputs": [],
   "source": [
    "emp1.employee_details_set=65000"
   ]
  },
  {
   "cell_type": "code",
   "execution_count": 48,
   "id": "a349e712-d4ed-450e-a3f2-45a99f782df3",
   "metadata": {},
   "outputs": [
    {
     "data": {
      "text/plain": [
       "(50000, 'Editor')"
      ]
     },
     "execution_count": 48,
     "metadata": {},
     "output_type": "execute_result"
    }
   ],
   "source": [
    "emp1.employee_details_access"
   ]
  },
  {
   "cell_type": "markdown",
   "id": "98de91ce-e866-49f5-bbb0-312ed72a52d3",
   "metadata": {},
   "source": [
    "Q5.What is method overriding in python? Write a python code to demonstrate method overriding."
   ]
  },
  {
   "cell_type": "markdown",
   "id": "cb367ab4-1b68-4947-b6da-fe1a1908fdd2",
   "metadata": {},
   "source": [
    "Method Overriding in Python is an OOPs concept closely related to inheritance. When a child class method overrides(or, provides it's own implementation) the parent class method of the same name, parameters and return type, it is known as method overriding.\n",
    "\n",
    "In this case, the child class's method is called the overriding method and the parent class's method is called the overriden method."
   ]
  },
  {
   "cell_type": "code",
   "execution_count": 53,
   "id": "3a2a38e0-406e-4f24-8b82-aac35b7f8f75",
   "metadata": {},
   "outputs": [],
   "source": [
    "#example\n",
    "class Father:\n",
    "    def Transportation(self):\n",
    "        print(\"Car\")\n"
   ]
  },
  {
   "cell_type": "code",
   "execution_count": 54,
   "id": "132d1193-bac4-4ff3-8758-e529e7ae8043",
   "metadata": {},
   "outputs": [],
   "source": [
    "class Son(Father):\n",
    "    def Transportation(self):\n",
    "        \n",
    "        print(\"Bike\")"
   ]
  },
  {
   "cell_type": "code",
   "execution_count": 55,
   "id": "834f6f35-f77a-4851-956c-596ffd3aeb8a",
   "metadata": {},
   "outputs": [],
   "source": [
    "obj=Son()"
   ]
  },
  {
   "cell_type": "code",
   "execution_count": 58,
   "id": "e6047870-e883-4b12-a760-f14b7faf29b2",
   "metadata": {},
   "outputs": [
    {
     "name": "stdout",
     "output_type": "stream",
     "text": [
      "Bike\n"
     ]
    }
   ],
   "source": [
    "obj.Transportation()"
   ]
  },
  {
   "cell_type": "code",
   "execution_count": null,
   "id": "307cb1d9-7a7e-46cf-bb44-e1baa2a45062",
   "metadata": {},
   "outputs": [],
   "source": []
  }
 ],
 "metadata": {
  "kernelspec": {
   "display_name": "Python 3 (ipykernel)",
   "language": "python",
   "name": "python3"
  },
  "language_info": {
   "codemirror_mode": {
    "name": "ipython",
    "version": 3
   },
   "file_extension": ".py",
   "mimetype": "text/x-python",
   "name": "python",
   "nbconvert_exporter": "python",
   "pygments_lexer": "ipython3",
   "version": "3.10.8"
  }
 },
 "nbformat": 4,
 "nbformat_minor": 5
}
