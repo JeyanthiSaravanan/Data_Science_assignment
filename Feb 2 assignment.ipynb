{
 "cells": [
  {
   "cell_type": "markdown",
   "id": "dbc98e1a-5bfc-4cdb-b9ff-5ead4ddd020d",
   "metadata": {},
   "source": [
    "1. What are the characteristics of the tuples? Is tuple immutable?  \n",
    "A tuple is a collection of objects which are ordered. Tuples are sequences, just like lists. The differences between tuples and lists are, the tuples cannot be changed unlike lists and tuples use parentheses, whereas lists use square brackets.    \n",
    "Creating a tuple is as simple as putting different comma-separated values. Optionally we can put these comma-separated values between parentheses\n",
    "eg,\n",
    "tup1=(\"apple\", \"banana\",1.5,2)  \n",
    "Yes. Tuples are immutable\n"
   ]
  },
  {
   "cell_type": "markdown",
   "id": "c1c1e6e0-e14a-4693-af99-2f0899a818a2",
   "metadata": {},
   "source": [
    "2. What are the two tuple methods in python? Give an example of each method. Give a reason why tuples have only two in-built methods as comparted to lists?  \n",
    "Python has two in built methods that we can use on tuples.  \n",
    "> count() -Returns the number of times a specified value occurs in a tuple  \n",
    "> index() -Searches the tuple for a specified value and returns the position of where it was found  \n",
    "\n",
    "     Tuples are immutable which means we can not modify its elements once created. So tuples only have the above two methods which do not modify its elements."
   ]
  },
  {
   "cell_type": "code",
   "execution_count": 17,
   "id": "394d904c-69b8-4486-8b82-be3645b74fd6",
   "metadata": {},
   "outputs": [
    {
     "data": {
      "text/plain": [
       "3"
      ]
     },
     "execution_count": 17,
     "metadata": {},
     "output_type": "execute_result"
    }
   ],
   "source": [
    "#count \n",
    "tup1=(1,2,3,4,5,3,6,7,3,5,4)\n",
    "count=tup1.count(3)\n",
    "count"
   ]
  },
  {
   "cell_type": "code",
   "execution_count": 18,
   "id": "85c5db40-d0a5-4862-8ce8-cfb358c8999b",
   "metadata": {},
   "outputs": [
    {
     "data": {
      "text/plain": [
       "1"
      ]
     },
     "execution_count": 18,
     "metadata": {},
     "output_type": "execute_result"
    }
   ],
   "source": [
    "#index\n",
    "tup2=(\"apple\",\"banana\",\"Cherry\",\"dragonfruit\")\n",
    "tup2.index(\"banana\")"
   ]
  },
  {
   "cell_type": "markdown",
   "id": "8439a6d4-da32-4138-9a04-ac973b11871d",
   "metadata": {},
   "source": [
    "3. Which collection datatypes in python do not allow duplicate items? Wrtie a code using a set to remove duplicates from the given list.  \n",
    "List=[1,1,1,2,1,3,1,4,2,1,2,2,2,3,2,4,3,1,3,2,3,3,3,4,4,1,4,2,4,3,4,4]"
   ]
  },
  {
   "cell_type": "code",
   "execution_count": 19,
   "id": "cff5191b-4f01-4eef-b8dd-8ea18841228f",
   "metadata": {},
   "outputs": [
    {
     "data": {
      "text/plain": [
       "{1, 2, 3, 4}"
      ]
     },
     "execution_count": 19,
     "metadata": {},
     "output_type": "execute_result"
    }
   ],
   "source": [
    "List=[1,1,1,2,1,3,1,4,2,1,2,2,2,3,2,4,3,1,3,2,3,3,3,4,4,1,4,2,4,3,4,4]\n",
    "set(List)"
   ]
  },
  {
   "cell_type": "markdown",
   "id": "a64fcd8b-309f-4b8a-9fb6-c0ed62060404",
   "metadata": {},
   "source": [
    "4. Explain the difference between the union() and update() method for a set. Give an example of each method.  \n",
    "The update() method updates the original set by adding items from all the specified sets, with no duplicates.  \n",
    "The union() method returns a new set containing all items from all the specified sets, with no duplicates.  \n",
    "> The difference is that the update method modifies the original set while union method just return the new set, it does not modify the original set\n"
   ]
  },
  {
   "cell_type": "code",
   "execution_count": 21,
   "id": "74960dcf-a53b-4596-b484-3c6bc6fa8e61",
   "metadata": {},
   "outputs": [
    {
     "name": "stdout",
     "output_type": "stream",
     "text": [
      "{'orange', 'blue', 'yellow', 'green', 'red'}\n"
     ]
    }
   ],
   "source": [
    "#update\n",
    "A = {'red', 'green', 'blue'}\n",
    "B = {'yellow', 'red', 'orange'}\n",
    "\n",
    "A.update(B)\n",
    "print(A)"
   ]
  },
  {
   "cell_type": "code",
   "execution_count": 22,
   "id": "0f44327f-3cc7-4d64-91b6-263d56395815",
   "metadata": {},
   "outputs": [
    {
     "data": {
      "text/plain": [
       "{'blue', 'green', 'orange', 'red', 'yellow'}"
      ]
     },
     "execution_count": 22,
     "metadata": {},
     "output_type": "execute_result"
    }
   ],
   "source": [
    "A"
   ]
  },
  {
   "cell_type": "code",
   "execution_count": 24,
   "id": "a4e807ef-ce41-4fe6-a0bc-e18daba7dd3a",
   "metadata": {},
   "outputs": [
    {
     "name": "stdout",
     "output_type": "stream",
     "text": [
      "{'pink', 'black', 'grey', 'white', 'purple'}\n"
     ]
    }
   ],
   "source": [
    "#union\n",
    "C={'pink','purple','black'}\n",
    "D={'black','white','grey'}\n",
    "\n",
    "print(C.union(D))\n"
   ]
  },
  {
   "cell_type": "code",
   "execution_count": 25,
   "id": "024373ee-5081-4993-a69a-8909f0b70b26",
   "metadata": {},
   "outputs": [
    {
     "data": {
      "text/plain": [
       "{'black', 'pink', 'purple'}"
      ]
     },
     "execution_count": 25,
     "metadata": {},
     "output_type": "execute_result"
    }
   ],
   "source": [
    "C"
   ]
  },
  {
   "cell_type": "markdown",
   "id": "ad385d00-ff12-4d53-95e9-1d63e07a28fa",
   "metadata": {},
   "source": [
    "5. What is a dictionary? Give an example. Also, state whether a dictionary is ordered or unordered.  \n",
    "Dictionaries are used to store data values in key:value pairs.  \n",
    "Dictionaries are written with curly brackets {}\n",
    "\n",
    "    \n",
    "     Dictionary items are `ordered`, changeable, and does not allow duplicates"
   ]
  },
  {
   "cell_type": "code",
   "execution_count": 27,
   "id": "72b2f971-fb06-4619-97e5-b433c9dc8410",
   "metadata": {},
   "outputs": [
    {
     "data": {
      "text/plain": [
       "{'NAME': 'Jeyanthi', 'Age': 28}"
      ]
     },
     "execution_count": 27,
     "metadata": {},
     "output_type": "execute_result"
    }
   ],
   "source": [
    "#EXAMPLE FOR DICTIONARY\n",
    "di={'NAME':'Jeyanthi','Age':28}\n",
    "di"
   ]
  },
  {
   "cell_type": "markdown",
   "id": "748ad67b-1b78-4215-abce-fd772304159a",
   "metadata": {},
   "source": [
    "6. Can we create a nested dictionary? If so,please give an example by creating a simple one-level nested dictionary?  \n",
    "Yes, we can\n"
   ]
  },
  {
   "cell_type": "code",
   "execution_count": 29,
   "id": "81c53020-8e22-4536-9565-886a0b92b3d5",
   "metadata": {},
   "outputs": [
    {
     "data": {
      "text/plain": [
       "{'Emp_1': {'Name': 'Jeyanthi', 'Age': 28, 'id': 4663},\n",
       " 'Emp_2': {'Name': 'Jane', 'Age': 29, 'id': 4664}}"
      ]
     },
     "execution_count": 29,
     "metadata": {},
     "output_type": "execute_result"
    }
   ],
   "source": [
    "#nested dictionary\n",
    "employees_list={\"Emp_1\":{\"Name\":\"Jeyanthi\", \"Age\":28, \"id\": 4663},\"Emp_2\":{\"Name\":\"Jane\", \"Age\":29, \"id\": 4664}}\n",
    "employees_list"
   ]
  },
  {
   "cell_type": "markdown",
   "id": "116352aa-d38e-4fea-9492-b3e305c7862c",
   "metadata": {},
   "source": [
    "7) Using setdefault() method, create key named topics in the given dictionary and also add the value of the key as this list['Python', 'Machine learning','Deep learning']  \n",
    "dict1={'language':'Python', 'course':'Data science Masters'}"
   ]
  },
  {
   "cell_type": "code",
   "execution_count": 32,
   "id": "39ca4504-2974-44f8-be45-0231dea90f49",
   "metadata": {},
   "outputs": [
    {
     "data": {
      "text/plain": [
       "{'language': 'Python',\n",
       " 'course': 'Data science Masters',\n",
       " 'Topics': ['Python', 'Machine learning', 'Deep learning']}"
      ]
     },
     "execution_count": 32,
     "metadata": {},
     "output_type": "execute_result"
    }
   ],
   "source": [
    "dict1={'language':'Python', 'course':'Data science Masters'}\n",
    "Topic=dict1.setdefault('Topics',['Python','Machine learning','Deep learning'])\n",
    "dict1                                "
   ]
  },
  {
   "cell_type": "markdown",
   "id": "c85a378e-d014-4c29-8b6f-475fb735eb91",
   "metadata": {},
   "source": [
    "8) What are the three view objects in dictionaries? Use the three in-built methods in python to display these three view objects for the given dictionary.  \n",
    "dict1={'sport':'Cricket','Teams':['India','Australia','England','South Africa','Sri lanka','New Zealand'}  \n",
    "\n",
    "The view objects of dictionary in python are keys, values and items\n",
    "> `Keys` : The view object keys represent all the keys in a dictionary. We can retrieve the contents of this object using the keys() method  \n",
    "> `Values`: "
   ]
  },
  {
   "cell_type": "code",
   "execution_count": 35,
   "id": "36b368c4-57c5-44d3-9a9b-c4a0fd0d31cd",
   "metadata": {},
   "outputs": [],
   "source": [
    "dict1={'sport':'Cricket','Teams':['India','Australia','England','South Africa','Sri lanka','New Zealand']}  "
   ]
  },
  {
   "cell_type": "code",
   "execution_count": 36,
   "id": "4df320bf-5cce-4fd6-92f8-482c2df2aa72",
   "metadata": {},
   "outputs": [
    {
     "data": {
      "text/plain": [
       "dict_keys(['sport', 'Teams'])"
      ]
     },
     "execution_count": 36,
     "metadata": {},
     "output_type": "execute_result"
    }
   ],
   "source": [
    "#Keys\n",
    "dict1.keys()"
   ]
  },
  {
   "cell_type": "code",
   "execution_count": 37,
   "id": "6eaaf885-0c21-4113-8e14-1198abe17004",
   "metadata": {},
   "outputs": [
    {
     "data": {
      "text/plain": [
       "dict_values(['Cricket', ['India', 'Australia', 'England', 'South Africa', 'Sri lanka', 'New Zealand']])"
      ]
     },
     "execution_count": 37,
     "metadata": {},
     "output_type": "execute_result"
    }
   ],
   "source": [
    "#Values\n",
    "dict1.values()"
   ]
  },
  {
   "cell_type": "code",
   "execution_count": 38,
   "id": "f40acb2b-127e-42b4-b50b-695b3b67a364",
   "metadata": {},
   "outputs": [
    {
     "data": {
      "text/plain": [
       "dict_items([('sport', 'Cricket'), ('Teams', ['India', 'Australia', 'England', 'South Africa', 'Sri lanka', 'New Zealand'])])"
      ]
     },
     "execution_count": 38,
     "metadata": {},
     "output_type": "execute_result"
    }
   ],
   "source": [
    "#items\n",
    "dict1.items()"
   ]
  },
  {
   "cell_type": "code",
   "execution_count": null,
   "id": "adf8667e-3892-4837-ab19-7c02da569069",
   "metadata": {},
   "outputs": [],
   "source": []
  }
 ],
 "metadata": {
  "kernelspec": {
   "display_name": "Python 3 (ipykernel)",
   "language": "python",
   "name": "python3"
  },
  "language_info": {
   "codemirror_mode": {
    "name": "ipython",
    "version": 3
   },
   "file_extension": ".py",
   "mimetype": "text/x-python",
   "name": "python",
   "nbconvert_exporter": "python",
   "pygments_lexer": "ipython3",
   "version": "3.10.8"
  }
 },
 "nbformat": 4,
 "nbformat_minor": 5
}
