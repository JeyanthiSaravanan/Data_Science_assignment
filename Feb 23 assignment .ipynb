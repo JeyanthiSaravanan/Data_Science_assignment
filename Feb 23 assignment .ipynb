{
 "cells": [
  {
   "cell_type": "code",
   "execution_count": 1,
   "id": "6c2ad298-0075-4229-9366-7ea6f8cd17e9",
   "metadata": {},
   "outputs": [],
   "source": [
    "import pandas as pd"
   ]
  },
  {
   "cell_type": "markdown",
   "id": "c64f4c6f-c0bb-492f-bc2a-74ef053c0012",
   "metadata": {},
   "source": [
    "Q1. Create a Pandas Series that contains the following data: 4, 8, 15, 16, 23, and 42. Then, print the series."
   ]
  },
  {
   "cell_type": "code",
   "execution_count": 2,
   "id": "d976e53e-b5b3-41cc-b0f5-bb71c9a4ec6a",
   "metadata": {},
   "outputs": [
    {
     "name": "stdout",
     "output_type": "stream",
     "text": [
      "0     4\n",
      "1     8\n",
      "2    15\n",
      "3    16\n",
      "4    23\n",
      "5    42\n",
      "dtype: int64\n"
     ]
    }
   ],
   "source": [
    "a=[4, 8, 15, 16, 23, 42]\n",
    "b=pd.Series(a)\n",
    "print(b)"
   ]
  },
  {
   "cell_type": "markdown",
   "id": "3a9edcf4-4439-4c44-bf32-3d360b3bb7cd",
   "metadata": {},
   "source": [
    "Q2. Create a variable of list type containing 10 elements in it, and apply pandas.Series function on the\n",
    "variable print it."
   ]
  },
  {
   "cell_type": "code",
   "execution_count": 3,
   "id": "3382c5cd-214f-470f-bf9f-df24a9d5386d",
   "metadata": {},
   "outputs": [
    {
     "name": "stdout",
     "output_type": "stream",
     "text": [
      "0         1\n",
      "1       343\n",
      "2       464\n",
      "3     apple\n",
      "4      3435\n",
      "5     332.2\n",
      "6    banana\n",
      "7       343\n",
      "8       455\n",
      "9       139\n",
      "dtype: object\n"
     ]
    }
   ],
   "source": [
    "lst=[1, 343, 464, 'apple', 3435, 332.2, 'banana',343, 455, 139 ]\n",
    "var=pd.Series(lst)\n",
    "print(var)"
   ]
  },
  {
   "cell_type": "code",
   "execution_count": null,
   "id": "ba95b91d-1b9c-45f3-b33e-9b760a8bef88",
   "metadata": {},
   "outputs": [],
   "source": [
    "Q3. Create a Pandas DataFrame that contains the following data: \n",
    "    "
   ]
  },
  {
   "cell_type": "code",
   "execution_count": 4,
   "id": "6dcfbb9e-cf77-4578-b012-ecfca0d7e31d",
   "metadata": {},
   "outputs": [
    {
     "name": "stdout",
     "output_type": "stream",
     "text": [
      "     Name  Age  Gender\n",
      "0   Alice   25  Female\n",
      "1     Bob   30    Male\n",
      "2  Claire   27  Female\n"
     ]
    }
   ],
   "source": [
    "data={'Name':['Alice', 'Bob', 'Claire'], 'Age':[25, 30, 27],\"Gender\":['Female', 'Male', 'Female']}\n",
    "df=pd.DataFrame(data)\n",
    "print(df)"
   ]
  },
  {
   "cell_type": "markdown",
   "id": "921c42a0-555d-4d83-a5fd-70988fdccdea",
   "metadata": {},
   "source": [
    "Q4. What is ‘DataFrame’ in pandas and how is it different from pandas.series? Explain with an example.   \n",
    "A pandas DataFrame is a two-dimensional data structure that can be thought of as a spreadsheet. It can also be thought of as a collection of two or more series with common indices. \n",
    "Series can only contain a single list with an index, whereas Dataframe can be made of more than one series or we can say that a Dataframe is a collection of series that can be used to analyze the data."
   ]
  },
  {
   "cell_type": "code",
   "execution_count": 6,
   "id": "7b29e806-1b08-469f-8587-7270db01042f",
   "metadata": {},
   "outputs": [
    {
     "name": "stdout",
     "output_type": "stream",
     "text": [
      "0     apple\n",
      "1    banana\n",
      "2     mango\n",
      "3      kiwi\n",
      "dtype: object\n"
     ]
    }
   ],
   "source": [
    "products=['apple', 'banana', 'mango','kiwi']\n",
    "series1=pd.Series(products)\n",
    "print(series1)"
   ]
  },
  {
   "cell_type": "code",
   "execution_count": 7,
   "id": "6da60b24-36d7-4fce-a8b8-9a32b9094a48",
   "metadata": {},
   "outputs": [
    {
     "name": "stdout",
     "output_type": "stream",
     "text": [
      "0    100\n",
      "1     30\n",
      "2    150\n",
      "3    250\n",
      "dtype: object\n"
     ]
    }
   ],
   "source": [
    "prices=['100', '30', '150','250']\n",
    "series2=pd.Series(prices)\n",
    "print(series2)"
   ]
  },
  {
   "cell_type": "code",
   "execution_count": 10,
   "id": "2707f6b1-9d69-4174-b4fb-bb78eb19328f",
   "metadata": {},
   "outputs": [
    {
     "name": "stdout",
     "output_type": "stream",
     "text": [
      "       0       1      2     3\n",
      "0  apple  banana  mango  kiwi\n",
      "1    100      30    150   250\n"
     ]
    }
   ],
   "source": [
    "df=pd.DataFrame([series1, series2])\n",
    "print(df)"
   ]
  },
  {
   "cell_type": "markdown",
   "id": "9d9da630-f9a2-406f-aba3-d1f21e0efccd",
   "metadata": {},
   "source": [
    "Q5. What are some common functions you can use to manipulate data in a Pandas DataFrame? Can\n",
    "you give an example of when you might use one of these functions?\n",
    "1. Read Data  \n",
    "We can read data in pandas data frame as read_csv(). Two most used data read formats are csv and excel.  \n",
    "df=pd.read_csv('May expenses\".csv)\n",
    "2. Head and Tail  \n",
    "To see the data frame we can use df.head(). Head returns the first rows, if no input is given it will always show above 5 rows. In contrast to see below rows, we can use df.tail().  \n",
    "df.head(3)\n",
    "df.tail(3)\n",
    "3. Shape, Size and Info    \n",
    "Two most basic functions after reading data is to know the number of rows and columns, and to know the datatype of variables. We can use df.shape, it gives a total number of rows and then columns. df.size() returns the number of rows times number of columns in the data frame. We can also use df.info(), from that we get different information such as rows from RangeIndex, Data columns and then data type of each column.  \n",
    "df.shape   \n",
    "df.info()   \n",
    "4. isna  \n",
    "if one needs to get the total number of null values in a data, we can use df.isna() as below. Sum will give the total null values. If we want just one variable null values, we can also get it by giving the name of the variable as below.   \n",
    "df.isna().sum()   \n",
    "df.price.isna().sum()   \n",
    "5. Describe   \n",
    "Then to understand basic statistics of variables we can use df.describe(). It will give you count, mean, standard deviation, and also 5 number summary.  \n",
    "df.describe()\n",
    "6. Nunique\n",
    "To get the total unique values of variables, we can use df.nunique(). It will give all the unique values a variable contains.   \n",
    "df.Nunique()  \n",
    "7. Columns  \n",
    "To know the names of all the variables in a data frame, we can use df.columns.    \n",
    "df.columns()  \n"
   ]
  },
  {
   "cell_type": "markdown",
   "id": "57c08fe8-a38a-4084-88c3-893933a91943",
   "metadata": {},
   "source": [
    "Q6. Which of the following is mutable in nature Series, DataFrame, Panel?   \n",
    "\n",
    "Series     \n",
    "The values of the series are mutable means we can change any value in series, but the size of the series is immutable so we can not change the size of the series.   \n",
    "Dataframe   \n",
    "A DataFrame size is mutable and data is also mutable so we can change the data and size of DataFrame at any time.  \n",
    "Panel   \n",
    "Panel Data and size are mutable."
   ]
  },
  {
   "cell_type": "markdown",
   "id": "960f53b4-f63b-42fa-8555-49929995c121",
   "metadata": {},
   "source": [
    "Q7. Create a DataFrame using multiple Series. Explain with an example."
   ]
  },
  {
   "cell_type": "code",
   "execution_count": 17,
   "id": "9ea9bae3-aac9-4cd3-8f15-3d664f5e4174",
   "metadata": {},
   "outputs": [],
   "source": [
    "name = pd.Series(['A', 'B', 'C', 'D', 'E'], name='name')\n",
    "points = pd.Series([34, 20, 21, 57, 68], name='points')\n",
    "assists = pd.Series([8, 12, 14, 9, 11], name='assists')"
   ]
  },
  {
   "cell_type": "code",
   "execution_count": 18,
   "id": "6abf66c0-7d54-4d4c-907f-5489af63eea6",
   "metadata": {},
   "outputs": [],
   "source": [
    "df=pd.DataFrame([name,points, assists])"
   ]
  },
  {
   "cell_type": "code",
   "execution_count": 19,
   "id": "02419c3a-3efa-40bb-82e0-687bef00a65a",
   "metadata": {},
   "outputs": [
    {
     "data": {
      "text/html": [
       "<div>\n",
       "<style scoped>\n",
       "    .dataframe tbody tr th:only-of-type {\n",
       "        vertical-align: middle;\n",
       "    }\n",
       "\n",
       "    .dataframe tbody tr th {\n",
       "        vertical-align: top;\n",
       "    }\n",
       "\n",
       "    .dataframe thead th {\n",
       "        text-align: right;\n",
       "    }\n",
       "</style>\n",
       "<table border=\"1\" class=\"dataframe\">\n",
       "  <thead>\n",
       "    <tr style=\"text-align: right;\">\n",
       "      <th></th>\n",
       "      <th>0</th>\n",
       "      <th>1</th>\n",
       "      <th>2</th>\n",
       "      <th>3</th>\n",
       "      <th>4</th>\n",
       "    </tr>\n",
       "  </thead>\n",
       "  <tbody>\n",
       "    <tr>\n",
       "      <th>name</th>\n",
       "      <td>A</td>\n",
       "      <td>B</td>\n",
       "      <td>C</td>\n",
       "      <td>D</td>\n",
       "      <td>E</td>\n",
       "    </tr>\n",
       "    <tr>\n",
       "      <th>points</th>\n",
       "      <td>34</td>\n",
       "      <td>20</td>\n",
       "      <td>21</td>\n",
       "      <td>57</td>\n",
       "      <td>68</td>\n",
       "    </tr>\n",
       "    <tr>\n",
       "      <th>assists</th>\n",
       "      <td>8</td>\n",
       "      <td>12</td>\n",
       "      <td>14</td>\n",
       "      <td>9</td>\n",
       "      <td>11</td>\n",
       "    </tr>\n",
       "  </tbody>\n",
       "</table>\n",
       "</div>"
      ],
      "text/plain": [
       "          0   1   2   3   4\n",
       "name      A   B   C   D   E\n",
       "points   34  20  21  57  68\n",
       "assists   8  12  14   9  11"
      ]
     },
     "execution_count": 19,
     "metadata": {},
     "output_type": "execute_result"
    }
   ],
   "source": [
    "df"
   ]
  },
  {
   "cell_type": "code",
   "execution_count": null,
   "id": "d878a1aa-260e-45ac-b28f-4fa83c0e6c6c",
   "metadata": {},
   "outputs": [],
   "source": []
  }
 ],
 "metadata": {
  "kernelspec": {
   "display_name": "Python 3 (ipykernel)",
   "language": "python",
   "name": "python3"
  },
  "language_info": {
   "codemirror_mode": {
    "name": "ipython",
    "version": 3
   },
   "file_extension": ".py",
   "mimetype": "text/x-python",
   "name": "python",
   "nbconvert_exporter": "python",
   "pygments_lexer": "ipython3",
   "version": "3.10.8"
  }
 },
 "nbformat": 4,
 "nbformat_minor": 5
}
