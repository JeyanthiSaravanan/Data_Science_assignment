{
 "cells": [
  {
   "cell_type": "markdown",
   "id": "b6865259-2434-4e89-8211-59f76e3fe902",
   "metadata": {},
   "source": [
    "1. Explain class and object with respect to OOPS. Give a suitable example.  \n",
    "   Class:  \n",
    "       A class is basically a template or a blueprint within which objects can be created.  \n",
    "       Class binds methods and data together into a single unit.  \n",
    "       \n",
    "   Object:  \n",
    "       A real-world entity which is an instance of a class.  \n",
    "       An object acts like a variable of the class."
   ]
  },
  {
   "cell_type": "code",
   "execution_count": 1,
   "id": "980f2a0c-c7c0-4bb7-9914-f81fcc1e7f00",
   "metadata": {},
   "outputs": [],
   "source": [
    "#Example:\n",
    "class movie:\n",
    "    def cast(self, actor, actress):\n",
    "        self.actor=actor\n",
    "        self.actress=actress\n",
    "    def cast_details(self):\n",
    "        return self.actor, self.actress\n",
    "    "
   ]
  },
  {
   "cell_type": "code",
   "execution_count": 2,
   "id": "478159fb-33ff-4c1b-aabc-98e31c073133",
   "metadata": {},
   "outputs": [],
   "source": [
    "#object\n",
    "leo=movie()"
   ]
  },
  {
   "cell_type": "code",
   "execution_count": 4,
   "id": "e087013c-4abe-4f7c-b5ff-3a1d33c15c64",
   "metadata": {},
   "outputs": [],
   "source": [
    "leo.cast(\"Vijay\", \"Trisha\")"
   ]
  },
  {
   "cell_type": "code",
   "execution_count": 5,
   "id": "2f4ce22e-d423-4dfa-b392-f6527fb7b6c8",
   "metadata": {},
   "outputs": [
    {
     "data": {
      "text/plain": [
       "('Vijay', 'Trisha')"
      ]
     },
     "execution_count": 5,
     "metadata": {},
     "output_type": "execute_result"
    }
   ],
   "source": [
    "leo.cast_details()"
   ]
  },
  {
   "cell_type": "markdown",
   "id": "c0e5256b-439f-4844-a6db-126b21395880",
   "metadata": {},
   "source": [
    "2. Name the four pillars of OOPS.  \n",
    "   Polymorphism  \n",
    "   Encapsulation  \n",
    "   Inheritance  \n",
    "   Abstraction"
   ]
  },
  {
   "cell_type": "markdown",
   "id": "a1be51d9-e869-455d-b02b-3816a791f305",
   "metadata": {},
   "source": [
    "3. Explain why the __init__() function is used. GIve  a suitable example.  \n",
    "   It is called as a constructor in object oriented terminology. This method is called when an object is created from a class and it allows the class to initialize the attributes of the class.  \n",
    "   "
   ]
  },
  {
   "cell_type": "code",
   "execution_count": 6,
   "id": "576f8a05-00b9-44a8-9a91-ae7db05ae896",
   "metadata": {},
   "outputs": [],
   "source": [
    "#example\n",
    "class employee:\n",
    "    def __init__(self, phonenumber, employee_id, Date_of_joining):\n",
    "        self.phonenumber= phonenumber\n",
    "        self.employee_id=employee_id\n",
    "        self.doj=Date_of_joining\n",
    "    def employee_details(self):\n",
    "        return self.phonenumber,self.employee_id,self.doj\n",
    "        "
   ]
  },
  {
   "cell_type": "code",
   "execution_count": 7,
   "id": "7d2ba7ec-ceb2-4d7f-bccf-842f466e99ae",
   "metadata": {},
   "outputs": [],
   "source": [
    "Jeyanthi=employee(78575785455, 5458, \"25 Mar 2023\" )"
   ]
  },
  {
   "cell_type": "code",
   "execution_count": 9,
   "id": "1e0ae637-e567-46e3-91b5-99c184d19054",
   "metadata": {},
   "outputs": [
    {
     "data": {
      "text/plain": [
       "(78575785455, 5458, '25 Mar 2023')"
      ]
     },
     "execution_count": 9,
     "metadata": {},
     "output_type": "execute_result"
    }
   ],
   "source": [
    "Jeyanthi.employee_details()\n"
   ]
  },
  {
   "cell_type": "markdown",
   "id": "89965f56-5a2f-421c-855f-0ee563403a5e",
   "metadata": {},
   "source": [
    "4. Why self is used in OOPS?  \n",
    "\n",
    "The self parameter is a reference to the current instance of the class, and is used to access variables that belongs to the class.  \n",
    "\n",
    "It does not have to be named self , you can call it whatever you like, but it has to be the first parameter of any function in the class"
   ]
  },
  {
   "cell_type": "markdown",
   "id": "dede250c-4595-4a8e-8c30-2578996b3c10",
   "metadata": {},
   "source": [
    "5. What is inheritance? Given an example for each type of inheritance.  \n",
    "Inheritance allows us to create a new class from an existing class.  It is a mechanism that allows you to create a hierarchy of classes that share a set of properties and methods by deriving a class from another class.  \n",
    "Inheritance is the capability of one class to derive or inherit the properties from another class. \n",
    "\n",
    "  \n",
    "     The new class that is created is known as subclass (child or derived class) and the existing class from which the child class is derived is known as superclass (parent or base class)"
   ]
  },
  {
   "cell_type": "code",
   "execution_count": 4,
   "id": "93750f61-6470-49f2-a4d6-0116c05a14a4",
   "metadata": {},
   "outputs": [],
   "source": [
    "#Examples\n",
    "#Single Inheritance:\n",
    "class father:\n",
    "    def func(self):\n",
    "        print(\"Father name: Mohan\")\n"
   ]
  },
  {
   "cell_type": "code",
   "execution_count": 9,
   "id": "6737debd-63a7-4b5e-8efd-68972c43185b",
   "metadata": {},
   "outputs": [],
   "source": [
    "class child(father):\n",
    "     def func1(self):\n",
    "        print(\"Child name: Rohan\")"
   ]
  },
  {
   "cell_type": "code",
   "execution_count": 10,
   "id": "3bcb20a8-c81b-4dd3-9abe-c54815113b3d",
   "metadata": {},
   "outputs": [],
   "source": [
    "family= child()"
   ]
  },
  {
   "cell_type": "code",
   "execution_count": 11,
   "id": "bb954110-c762-4b12-9099-3c2586589e6a",
   "metadata": {},
   "outputs": [
    {
     "name": "stdout",
     "output_type": "stream",
     "text": [
      "Father name: Mohan\n"
     ]
    }
   ],
   "source": [
    "family.func()"
   ]
  },
  {
   "cell_type": "code",
   "execution_count": 12,
   "id": "6d56fbc3-fb97-4b5c-b368-6f1878cdd577",
   "metadata": {},
   "outputs": [],
   "source": [
    "#Multilevel Inheritance:\n",
    "class Grandfather:\n",
    "    def func3(self):\n",
    "        print(\"Grandfather name: Kumar\")\n",
    "class father(Grandfather):\n",
    "    def func(self):\n",
    "        print(\"Father name: Mohan\")\n",
    "class child(father):\n",
    "     def func1(self):\n",
    "        print(\"Child name: Rohan\")"
   ]
  },
  {
   "cell_type": "code",
   "execution_count": 13,
   "id": "84081408-331c-4de6-a0ce-a086c1d4b093",
   "metadata": {},
   "outputs": [],
   "source": [
    "family=child()"
   ]
  },
  {
   "cell_type": "code",
   "execution_count": 15,
   "id": "53b32c84-9770-4ce8-9b50-1bd2dd9e4ade",
   "metadata": {},
   "outputs": [
    {
     "name": "stdout",
     "output_type": "stream",
     "text": [
      "Grandfather name: Kumar\n"
     ]
    }
   ],
   "source": [
    "family.func3()"
   ]
  },
  {
   "cell_type": "code",
   "execution_count": 16,
   "id": "32ae3c33-d2fa-4800-b09b-ad476aced796",
   "metadata": {},
   "outputs": [],
   "source": [
    "#Multiple inheritance:\n",
    "class Grandfather:\n",
    "    def func3(self):\n",
    "        print(\"Grandfather name: Kumar\")\n",
    "class father:\n",
    "    def func(self):\n",
    "        print(\"Father name: Mohan\")\n",
    "class child(father, Grandfather):\n",
    "     def func1(self):\n",
    "        print(\"Child name: Rohan\")"
   ]
  },
  {
   "cell_type": "code",
   "execution_count": 17,
   "id": "8896fd4b-55f6-4b2c-83bb-eace824bf415",
   "metadata": {},
   "outputs": [],
   "source": [
    "family=child()"
   ]
  },
  {
   "cell_type": "code",
   "execution_count": 19,
   "id": "432db080-a4d4-41a5-9ab3-2eb6c840973f",
   "metadata": {},
   "outputs": [
    {
     "name": "stdout",
     "output_type": "stream",
     "text": [
      "Grandfather name: Kumar\n"
     ]
    }
   ],
   "source": [
    "family.func3()"
   ]
  },
  {
   "cell_type": "code",
   "execution_count": 21,
   "id": "1ebf5ba8-1518-41ec-9f74-1a1635cef919",
   "metadata": {},
   "outputs": [
    {
     "name": "stdout",
     "output_type": "stream",
     "text": [
      "Father name: Mohan\n"
     ]
    }
   ],
   "source": [
    "family.func()"
   ]
  },
  {
   "cell_type": "code",
   "execution_count": 28,
   "id": "e97b560c-b3a7-4c03-afe6-c018b724661d",
   "metadata": {},
   "outputs": [],
   "source": [
    "#Hierarchical inheritance\n",
    "class father:\n",
    "    def func(self):\n",
    "        print(\"Father name: Mohan\")\n",
    "class child1(father):\n",
    "    def son(self):\n",
    "        print(\"Son: Rohan\")\n",
    "class child2(father):\n",
    "    def daughter(self):\n",
    "        print(\"Daughter: Radha\")"
   ]
  },
  {
   "cell_type": "code",
   "execution_count": 29,
   "id": "6ae1302e-c32a-48bf-9060-f96c0bb62dc7",
   "metadata": {},
   "outputs": [],
   "source": [
    "obj1=child1()\n",
    "obj2=child2()"
   ]
  },
  {
   "cell_type": "code",
   "execution_count": 30,
   "id": "eca1cb14-d3b8-4b32-97b1-6957f7b0bfda",
   "metadata": {},
   "outputs": [
    {
     "name": "stdout",
     "output_type": "stream",
     "text": [
      "Father name: Mohan\n"
     ]
    }
   ],
   "source": [
    "obj1.func()\n"
   ]
  },
  {
   "cell_type": "code",
   "execution_count": 31,
   "id": "1fbd471e-0a93-4165-9b5c-7530a1bdacbd",
   "metadata": {},
   "outputs": [
    {
     "name": "stdout",
     "output_type": "stream",
     "text": [
      "Father name: Mohan\n"
     ]
    }
   ],
   "source": [
    "obj2.func()"
   ]
  },
  {
   "cell_type": "code",
   "execution_count": 32,
   "id": "52675e35-f51d-4773-9def-3f9b6758e43c",
   "metadata": {},
   "outputs": [],
   "source": [
    "#Hybrid inheritance\n",
    "class grandfather:\n",
    "     def func3(self):\n",
    "        print(\"Grandfather name: Kumar\")\n",
    "class father(grandfather):\n",
    "    def func1(self):\n",
    "        print(\"Father name: Mohan\")\n",
    "class mother:\n",
    "    def func2(self):\n",
    "        print(\"Mother name: Mythili\")\n",
    "class child(father, mother):\n",
    "    def func4(self):\n",
    "        print(\"Child name: Rohan\")"
   ]
  },
  {
   "cell_type": "code",
   "execution_count": 33,
   "id": "e07e67c3-9cd6-41bf-ad02-0bcebad6e6dd",
   "metadata": {},
   "outputs": [],
   "source": [
    "family=child()"
   ]
  },
  {
   "cell_type": "code",
   "execution_count": 38,
   "id": "2471fcce-e077-4f5e-91fb-a9e11d8a7712",
   "metadata": {},
   "outputs": [
    {
     "name": "stdout",
     "output_type": "stream",
     "text": [
      "Grandfather name: Kumar\n",
      "Father name: Mohan\n",
      "Mother name: Mythili\n",
      "Child name: Rohan\n"
     ]
    }
   ],
   "source": [
    "family.func3()\n",
    "family.func1()\n",
    "family.func2()\n",
    "family.func4()"
   ]
  },
  {
   "cell_type": "code",
   "execution_count": null,
   "id": "756cfc56-8af2-4156-b8d2-a3547b4761c5",
   "metadata": {},
   "outputs": [],
   "source": []
  }
 ],
 "metadata": {
  "kernelspec": {
   "display_name": "Python 3 (ipykernel)",
   "language": "python",
   "name": "python3"
  },
  "language_info": {
   "codemirror_mode": {
    "name": "ipython",
    "version": 3
   },
   "file_extension": ".py",
   "mimetype": "text/x-python",
   "name": "python",
   "nbconvert_exporter": "python",
   "pygments_lexer": "ipython3",
   "version": "3.10.8"
  }
 },
 "nbformat": 4,
 "nbformat_minor": 5
}
