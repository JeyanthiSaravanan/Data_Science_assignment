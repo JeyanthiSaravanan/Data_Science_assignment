{
 "cells": [
  {
   "cell_type": "markdown",
   "id": "ca67a5e4-c81a-4ca0-8720-a1f33bc220e4",
   "metadata": {},
   "source": [
    "Q1. Which function is used to open a file? What are the different modes of opening a file? Explain each mode\n",
    "of file opening."
   ]
  },
  {
   "cell_type": "markdown",
   "id": "a91f57e4-6842-40b1-9429-d1b8fe916bb5",
   "metadata": {},
   "source": [
    "We can use open() function to open a file.  \n",
    "\n",
    "f=open(\"test.txt\", \"w\") or we can use  \n",
    "\n",
    "with open(\"test.txt\", \"w\") as f:"
   ]
  },
  {
   "cell_type": "markdown",
   "id": "d20df129-703e-4d00-9b07-fc84f5de9b17",
   "metadata": {},
   "source": [
    "Modes of opening a file:  \n",
    "'r'       open for reading (default)  \n",
    "'w'       open for writing, truncating the file first  \n",
    "'x'       create a new file and open it for writing  \n",
    "'a'       open for writing, appending to the end of the file if it exists  \n",
    "'b'       binary mode  \n",
    "'t'       text mode (default)  \n",
    "'+'       open a disk file for updating (reading and writing)  \n",
    "'U'       universal newline mode (deprecated)  "
   ]
  },
  {
   "cell_type": "markdown",
   "id": "c3f5f2b1-ba0d-4426-90ba-32e0fdee8ad1",
   "metadata": {},
   "source": [
    "Q2. Why close() function is used? Why is it important to close a file?\n"
   ]
  },
  {
   "cell_type": "markdown",
   "id": "23b1c990-aa35-4a8c-a537-ce2ed94ddafa",
   "metadata": {},
   "source": [
    "close() function closes the opened file.  \n",
    "Files are limited resources managed by the operating system, making sure files are closed after use will protect against  \n",
    "hard-to-debug issues like running out of file handles or experiencing corrupted data."
   ]
  },
  {
   "cell_type": "code",
   "execution_count": 4,
   "id": "22775856-fce3-4f60-be6e-06dc67cf6b5b",
   "metadata": {},
   "outputs": [],
   "source": [
    "#example\n",
    "file=open(\"newtest.txt\", \"r\")\n",
    "\n"
   ]
  },
  {
   "cell_type": "code",
   "execution_count": 5,
   "id": "079085d1-f657-43ef-b433-72fd133244b7",
   "metadata": {},
   "outputs": [
    {
     "data": {
      "text/plain": [
       "'Hello! Good Morning'"
      ]
     },
     "execution_count": 5,
     "metadata": {},
     "output_type": "execute_result"
    }
   ],
   "source": [
    "file.read()"
   ]
  },
  {
   "cell_type": "code",
   "execution_count": 6,
   "id": "3af1d011-5a6f-4917-ad0b-b570039361e7",
   "metadata": {},
   "outputs": [],
   "source": [
    "file.close()"
   ]
  },
  {
   "cell_type": "markdown",
   "id": "6f14e30b-f0ad-41cb-91d6-4b5b99c563ea",
   "metadata": {},
   "source": [
    "Q3. Write a python program to create a text file. Write ‘I want to become a Data Scientist’ in that file. Then\n",
    "close the file. Open this file and read the content of the file."
   ]
  },
  {
   "cell_type": "code",
   "execution_count": 8,
   "id": "0e3f9fa1-95c3-4add-a04e-8b25aba10933",
   "metadata": {},
   "outputs": [],
   "source": [
    "file=open(\"myfile.txt\",\"w\")\n",
    "file.write(\"I want to become a Data Scientist\")\n",
    "file.close()"
   ]
  },
  {
   "cell_type": "code",
   "execution_count": 9,
   "id": "9df60a61-7702-4c48-b8c7-97654cd3138b",
   "metadata": {},
   "outputs": [
    {
     "data": {
      "text/plain": [
       "'I want to become a Data Scientist'"
      ]
     },
     "execution_count": 9,
     "metadata": {},
     "output_type": "execute_result"
    }
   ],
   "source": [
    "file=open(\"myfile.txt\", \"r\")\n",
    "file.read()"
   ]
  },
  {
   "cell_type": "code",
   "execution_count": 10,
   "id": "299ec1ed-7fa6-46c2-890e-33772cbb38c1",
   "metadata": {},
   "outputs": [],
   "source": [
    "file.close()"
   ]
  },
  {
   "cell_type": "markdown",
   "id": "7a4725d6-768a-414a-b9a3-9a3e38d05013",
   "metadata": {},
   "source": [
    "Q4. Explain the following with python code: read(), readline() and readlines()."
   ]
  },
  {
   "cell_type": "markdown",
   "id": "eba8fefa-f1dc-47ed-ba1d-7c4d88e8c9d7",
   "metadata": {},
   "source": [
    "read()  \n",
    "The ``read()`` method reads the entire contents of a file and returns it as a string.  \n",
    "\n",
    "#readline()  \n",
    "The ``readline()`` method reads a single line from a file and returns it as a string.  \n",
    "This means that if you use readline, you can read the contents of a file line by line, which can be useful for processing large files that do not fit in memory.  \n",
    "\n",
    "#readlines()  \n",
    "The readline method reads a single line from a file and returns it as a string, while the ``readlines()`` method reads the entire contents of a file and returns it as a list of strings,  \n",
    "where each element of the list is a single line of the file.  \n",
    "Python readlines reads the whole file into memory, which can be problematic if the file is very large. In such cases, it's usually better to use readline and process the file one line at a time"
   ]
  },
  {
   "cell_type": "markdown",
   "id": "82e3e4c2-a2b4-4291-924e-2cccae533fcb",
   "metadata": {},
   "source": [
    "Q5. Explain why with statement is used with open(). What is the advantage of using with statement and\n",
    "open() together?  \n",
    "Using the open() method directly requires us to use the close() method to close the file explicitly. Instead, we can create a context using the with Open statement in python.  \n",
    "It returns a file object, which has methods and attributes for getting information about and manipulating the opened file.  \n",
    "\n"
   ]
  },
  {
   "cell_type": "code",
   "execution_count": 12,
   "id": "ba02a478-af33-4de0-bd24-c44953f4c51c",
   "metadata": {},
   "outputs": [],
   "source": [
    "#example\n",
    "with open(\"newtest.txt\", \"w\") as f:\n",
    "    f.write(\"Hakuna Matata\")"
   ]
  },
  {
   "cell_type": "markdown",
   "id": "34209a54-2925-4ab0-a00a-67aba8d14d3e",
   "metadata": {},
   "source": [
    "If the above program runs, the with open context in python closes the file before terminating the program.  \n",
    "In this way the data inside the file remains safe even if the program is terminated abruptly."
   ]
  },
  {
   "cell_type": "markdown",
   "id": "8329ea13-2e97-44fa-bb02-8f3991c5c95c",
   "metadata": {},
   "source": [
    "Q6. Explain the write() and writelines() functions. Give a suitable example.  \n",
    "write() method takes a string as an argument and writes it to the text file.  \n",
    "writelines() method is used to write multiple strings to a file. We need to pass an iterable object like lists, tuples, etc. containing strings to the writelines() method."
   ]
  },
  {
   "cell_type": "code",
   "execution_count": 17,
   "id": "c41e301f-31fa-4b82-ad81-23ac742f7ce2",
   "metadata": {},
   "outputs": [],
   "source": [
    "#example\n",
    "with open(\"newtest.txt\", \"w\") as f:\n",
    "    f.write(\"Hakuna Matata\")"
   ]
  },
  {
   "cell_type": "code",
   "execution_count": 19,
   "id": "1d11fcb2-47c6-4b3d-a720-0de7fa55f051",
   "metadata": {},
   "outputs": [],
   "source": [
    "with open(\"newtest.txt\", \"a\") as f:\n",
    "    f.writelines([\"\\n Just keep swimming\", \"\\n Adventure is out there\"])\n",
    "    "
   ]
  }
 ],
 "metadata": {
  "kernelspec": {
   "display_name": "Python 3 (ipykernel)",
   "language": "python",
   "name": "python3"
  },
  "language_info": {
   "codemirror_mode": {
    "name": "ipython",
    "version": 3
   },
   "file_extension": ".py",
   "mimetype": "text/x-python",
   "name": "python",
   "nbconvert_exporter": "python",
   "pygments_lexer": "ipython3",
   "version": "3.10.8"
  }
 },
 "nbformat": 4,
 "nbformat_minor": 5
}
