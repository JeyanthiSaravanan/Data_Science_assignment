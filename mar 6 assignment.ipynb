{
 "cells": [
  {
   "cell_type": "markdown",
   "id": "41938e8b-ef67-46fa-9d55-e32b303afd06",
   "metadata": {},
   "source": [
    "Q1. What is Statistics?"
   ]
  },
  {
   "cell_type": "markdown",
   "id": "172d2710-c8a1-4e52-afe7-8b2739a5038d",
   "metadata": {},
   "source": [
    "Statistics is the study of the collection, analysis, interpretation, presentation, and organization of data.  \n",
    "It is a mathematical discipline to collect, summarize data"
   ]
  },
  {
   "cell_type": "markdown",
   "id": "bcb2abd9-a48f-4a4a-8ec2-0479cce32cfc",
   "metadata": {},
   "source": [
    "Q2. Define the different types of statistics and give an example of when each type might be used.  \n",
    "The two main branches of statistics are:\n",
    "\n",
    "### Descriptive Statistics:    \n",
    "It involves the collection, organization, and presentation of data in such a way that it is easy to understand and interpret. Descriptive statistics are used to answer questions like, what is the:\n",
    "\n",
    "    average income of people in a state.   \n",
    "    most common type of car on the road.\n",
    "    ranges of ages of employees working in a particular company. \n",
    "It helps us better understand the data we are looking at by summarising the important information, such as the highest and lowest value, the middle value (median), and how spread out the data is (range and variance). These pieces of information help to conclude the group we are studying.  \n",
    "\n",
    "### Inferential Statistics:   \n",
    "Inferential statistics is the branch of statistics that makes inferences (or predictions) about the population dataset based on the sample dataset. It involves hypothesis testing, a process of using statistical methods to determine whether the hypothesis about the population is likely true.\n",
    "\n",
    "Inferential statistics are widely used in Scientific & Market Research and social sciences to make predictions, test hypotheses, and make decisions based on a solid understanding of the data. It also helps to minimize errors and biases in the result.\n",
    "\n",
    "Inferential statistics are used to answer questions like:\n",
    "\n",
    "    How likely is it that new medicine will be effective based on results from clinical trials?\n",
    "    What is the probability of winning party A based on the result of the survey?\n",
    "    How likely is that a certain event will happen in the future based on the historical data?"
   ]
  },
  {
   "cell_type": "markdown",
   "id": "a9815f58-1548-4ba7-a9f2-c1907420520c",
   "metadata": {},
   "source": [
    "Q3. What are the different types of data and how do they differ from each other? Provide an example of\n",
    "each type of data."
   ]
  },
  {
   "cell_type": "markdown",
   "id": "ab848ac3-d657-41b0-b595-3707db5ba215",
   "metadata": {},
   "source": [
    "There are two types of data     \n",
    "Qualitative data- Categorical Data (Nominal, Ordinal)   \n",
    "Quantitative data -Numerical Data (Discrete, Continuous, Interval, Ratio)    \n",
    "\n",
    "### Categorical:  \n",
    "Categorical data represents characteristics. Therefore it can represent things like a person’s gender, language etc. Categorical data can also take on numerical values (Example: 1 for female and 0 for male). But those numbers don’t have mathematical meaning.\n",
    "#### Nominal Data      \n",
    "Nominal values represent discrete units and are used to label variables, that have no quantitative value. Nominal data that has no order. Therefore if we would change the order of its values, the meaning would not change.  \n",
    "eg. Marital status - yes or no     \n",
    "#### Ordinal Data\n",
    "Ordinal values represent discrete and ordered units. It is therefore nearly the same as nominal data, except that it’s ordering matters. For example, \n",
    "what is your education background? A. High school B. Undergraduate C. Post graduate D. Ph.D  \n",
    "\n",
    "### Numerical Data  \n",
    "#### Discrete Data\n",
    "Discrete data values are distinct and separate. This type of data can’t be measured but it can be counted. It basically represents information that can be categorized into a classification. An example is the number of heads in 100 coin flips.  \n",
    "\n",
    "#### Continuous Data\n",
    "Continuous Data represents measurements and therefore their values can’t be counted but they can be measured. An example would be the height of a person, which you can describe by using intervals on the real number line.\n",
    "\n",
    "##### Interval Data\n",
    "\n",
    "Interval values represent ordered units that have the same difference. Therefore we speak of interval data when we have a variable that contains numeric values that are ordered and where we know the exact differences between the values. Interval values data don’t have a \"true zero\".  \n",
    "eg.Temperature -10 -5  0 +5 +10\n",
    "\n",
    "##### Ratio Data\n",
    "\n",
    "Ratio values are also ordered units that have the same difference. Ratio values are the same as interval values, with the difference that they do have an absolute zero. Good examples are height, weight, length etc.\n",
    "\n",
    "\n",
    "\n"
   ]
  },
  {
   "cell_type": "markdown",
   "id": "daaa801a-3457-41af-b42e-343e9400ecae",
   "metadata": {},
   "source": [
    "Q4. Categorise the following datasets with respect to quantitative and qualitative data types:    \n",
    "(i) Grading in exam: A+, A, B+, B, C+, C, D, E    -Ordinal data type    \n",
    "(ii) Colour of mangoes: yellow, green, orange, red - Nominal data type     \n",
    "(iii) Height data of a class: [178.9, 179, 179.5, 176, 177.2, 178.3, 175.8,...] - Ratio data type    \n",
    "(iv) Number of mangoes exported by a farm: [500, 600, 478, 672, ...] -Discrete data type    "
   ]
  },
  {
   "cell_type": "markdown",
   "id": "e1906ffb-9413-44bf-a4bf-631a8f65a22f",
   "metadata": {},
   "source": [
    "Q5. Explain the concept of levels of measurement and give an example of a variable for each level.  \n",
    "Levels of measurement, also called scales of measurement, tell us how precisely variables are recorded.   \n",
    "There are 4 levels of measurement:\n",
    "\n",
    "Nominal: the data can only be categorized. eg. colors, gender   \n",
    "Ordinal: the data can be categorized and ranked. education background, grades   \n",
    "Interval: the data can be categorized, ranked, and evenly spaced   temperature in celcius   \n",
    "Ratio: the data can be categorized, ranked, evenly spaced, and has a natural zero. eg. Height, weight, Age\n"
   ]
  },
  {
   "cell_type": "markdown",
   "id": "9d07d141-0f98-404f-8cce-3f70593129e7",
   "metadata": {},
   "source": [
    "Q6. Why is it important to understand the level of measurement when analyzing data? Provide an\n",
    "example to illustrate your answer.   \n",
    "It is important to understand the level of measurement of variables in research, because the level of measurement determines the type of statistical analysis that can be conducted, and, therefore, the type of conclusions that can be drawn from the research.  For example, if a variable is measured at the nominal level (such as gender or race), then non-parametric statistics, such as chi-square or contingency tables, are appropriate for analysis. On the other hand, if a variable is measured at the interval or ratio level (such as temperature or income), then parametric statistics, such as t-tests or ANOVA, can be used for analysis.Additionally, the level of measurement also determines the types of conclusions that can be drawn from the data. For example, if a variable is measured at the ordinal level, then only ordinal comparisons (such as \"greater than\" or \"less than\") can be made.Overall, the level of measurement is important in data analysis because it determines the appropriate statistical techniques and types of conclusions that can be drawn from the data."
   ]
  },
  {
   "cell_type": "markdown",
   "id": "73857253-a618-4818-ac87-baa55ac6bc94",
   "metadata": {},
   "source": [
    "Q7. How nominal data type is different from ordinal data type.     \n",
    "Nominal data that has no order. Therefore if we would change the order of its values, the meaning would not change.   \n",
    "Ordinal data is nearly the same as nominal data, except that it’s ordering matters.   "
   ]
  },
  {
   "cell_type": "markdown",
   "id": "f4c7e05e-239e-4ab8-88ec-7f48d17bf313",
   "metadata": {},
   "source": [
    "Q8. Which type of plot can be used to display data in terms of range?  \n",
    "The best graph to illustrate ranges in a data series is the box plot, also known as a box-and-whisker plot. This type of graph displays the minimum, first quartile, median, third quartile, and maximum values of a data set, as well as any outliers that may exist. It is a useful tool for quickly understanding the distribution of a data set, and can be particularly helpful for identifying patterns or anomalies in large data sets."
   ]
  },
  {
   "cell_type": "markdown",
   "id": "566bffd9-66d6-4ccb-b358-1e4fdfc8990f",
   "metadata": {},
   "source": [
    "Q9. Describe the difference between descriptive and inferential statistics. Give an example of each\n",
    "type of statistics and explain how they are used.  \n",
    "Descriptive statistics focus on describing the visible characteristics of a dataset (a population or sample). Meanwhile, inferential statistics focus on making predictions or generalizations about a larger dataset, based on a sample of those data. A good example for descriptive statistics would be a pie chart displaying the different hair colors in the population, clearly showing that brown hair is the most common and inferential statistics would be analyzing the hair color of one college class of students and using that result to predict the most popular hair color in the entire college."
   ]
  },
  {
   "cell_type": "markdown",
   "id": "43d974f9-e5b4-4091-aedc-a7db10173d59",
   "metadata": {},
   "source": [
    "Q10. What are some common measures of central tendency and variability used in statistics? Explain\n",
    "how each measure can be used to describe a dataset.  \n",
    "Central tendensy:\n",
    "Mean, median, and mode are the three most common measures of central tendency   \n",
    "\n",
    "Mean: The sum of all measurements divided by the number of observations.  \n",
    "\n",
    "Median: The middle value that separates the higher half from the lower half. Mean and median can be compared with each other to determine if the population is of normal distribution or not. Numbers are  arranged in either ascending or descending order. The middle number is than taken.The median is the most informative measure of central tendency for skewed distributions or distributions with outliers.   Because the median only uses one or two values, it’s unaffected by extreme outliers or non-symmetric distributions of scores.  \n",
    "\n",
    "Mode: The most frequent value. It shows most popular option and is the highest bar in histogram.The mode is most applicable to data from a nominal level of measurement.   \n",
    "\n",
    "Variability:   \n",
    "Range: the difference between the highest and lowest values    \n",
    "Interquartile range: the range of the middle half of a distribution   \n",
    "Standard deviation: average distance from the mean   \n",
    "Variance: average of squared distances from the mean   "
   ]
  },
  {
   "cell_type": "code",
   "execution_count": null,
   "id": "ed840052-e50e-498b-a5e3-a4dd238729ad",
   "metadata": {},
   "outputs": [],
   "source": []
  }
 ],
 "metadata": {
  "kernelspec": {
   "display_name": "Python 3 (ipykernel)",
   "language": "python",
   "name": "python3"
  },
  "language_info": {
   "codemirror_mode": {
    "name": "ipython",
    "version": 3
   },
   "file_extension": ".py",
   "mimetype": "text/x-python",
   "name": "python",
   "nbconvert_exporter": "python",
   "pygments_lexer": "ipython3",
   "version": "3.10.8"
  }
 },
 "nbformat": 4,
 "nbformat_minor": 5
}
