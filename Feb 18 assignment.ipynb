{
 "cells": [
  {
   "cell_type": "markdown",
   "id": "dc48dca4-e921-41ed-95b6-91337dd099e6",
   "metadata": {},
   "source": [
    "Q1. What is an API? Give an example, where an API is used in real life.  \n",
    "API stands for Application Programming Interface. In the context of APIs, the word Application refers to any software with a distinct function. Interface can be thought of as a contract of service between two applications. This contract defines how the two communicate with each other using requests and responses. Their API documentation contains information on how developers are to structure those requests and responses.  PIs are mechanisms that enable two software components to communicate with each other using a set of definitions and protocols. For example, the weather bureau’s software system contains daily weather data. The weather app on our phone “talks” to this system via APIs and shows us daily weather updates on our phone.\n"
   ]
  },
  {
   "cell_type": "markdown",
   "id": "48ac34c4-6b44-417d-82e2-62f2a6a4ba67",
   "metadata": {},
   "source": [
    "Q2. Give advantages and disadvantages of using API.  \n",
    "Advantages:\n",
    "\n",
    "1. Increased Interoperability: API solutions enable different software systems to communicate with each other, regardless of their programming language or platform. This enhances the interoperability between systems, allowing for the exchange of data and functionality.\n",
    "2. Improved Efficiency: API driven infrastructures enable developers to reuse code and functionality from existing software systems, saving time and reducing the amount of code that needs to be written from scratch.\n",
    "3. Better User Experience: APIs can enable third-party developers to create applications that integrate with existing software systems, providing a better user experience and increased functionality.\n",
    "4. Increased Flexibility: APIs provide developers with greater flexibility, enabling them to choose the best programming languages and frameworks for their needs.\n",
    "5. New Revenue Streams: APIs can enable companies to create new revenue streams by providing third-party developers with access to their software systems.\n",
    "\n",
    "Disadvantages:\n",
    "\n",
    "1. Security Concerns: API infrastructures can be vulnerable to security breaches, such as SQL injection attacks and cross-site scripting (XSS) attacks, making it crucial to implement security measures to protect against these threats.\n",
    "2. Complexity: APIs can be complex, requiring a significant amount of development effort to implement and maintain.\n",
    "3. Compatibility Issues: APIs can have compatibility issues between different versions of the same software system or between different systems, which can lead to errors and system failures.\n",
    "4. Dependency on Third-Party Developers: APIs rely on third-party developers to create applications that integrate with the software system. This can create dependencies that are outside of the control of the company that owns the software system.\n",
    "5. Governance and Management: APIs require proper governance and management to ensure they are being used correctly and consistently across different applications and systems."
   ]
  },
  {
   "cell_type": "markdown",
   "id": "a751f543-461a-4e7b-b0bc-a982c5b4f34e",
   "metadata": {},
   "source": [
    "Q3. What is a Web API? Differentiate between API and Web API.  \n",
    "A Web API is an application programming interface for the Web. it can be accessed over the web using the HTTP protocol. It is a framework that helps you to create and develop HTTP based RESTFUL services.  \n",
    "API can be created using TCP, SMTP or HTTP \n",
    "Web API is a subset of API and it can be created using HTTP\n",
    "A Web API or Web Service API is an application processing interface between a web server and web browser. All web services are APIs but not all APIs are web services.\n"
   ]
  },
  {
   "cell_type": "markdown",
   "id": "291dd468-d992-4606-9862-4c6d825b9660",
   "metadata": {},
   "source": [
    "Q4. Explain REST and SOAP Architecture. Mention shortcomings of SOAP.  \n",
    "\n",
    "REST\n",
    "\n",
    "REST APIs are modern and are the most popular API architecture that developers use. REST (representational state transfer) is an architecture used to design client-server applications. It's not a protocol or standard, so you can implement it in various ways. This aspect increases your flexibility as a developer.  REST allows access to the requested data stored in a database. You can perform the core CRUD functions with a REST API. When clients request content via a RESTful API, they must use the right headers and parameters. Headers contain useful metadata to identify a resource, like status codes and authorization.\n",
    "\n",
    "The information transferred via HTTP can be in JSON, HTML, XML, or plain text. JSON is the most commonly used file format for REST APIs. JSON is language-agnostic and readable by humans.  \n",
    "\n",
    "SOAP\n",
    "\n",
    "Simple object access protocol (SOAP) is an official API protocol. The World Wide Web Consortium (W3C) maintains the SOAP protocol, which is one of the earliest API architectures. Its design eases communication between applications built with different languages and platforms.  The SOAP format describes an API using the web service description language (WSDL). It's written in the extensive markup language (XML). The format imposes built-in compliance standards that boost security, consistency, isolation, and durability. These properties ensure reliable database transactions making SOAP better for enterprise development. When a user requests content through a SOAP API, it goes through the standard layer protocols. The response is in XML format, which humans and machines can read. Like REST APIs, SOAP APIs don't cache /store information. If you need the data later, you need to make another request.\n",
    "\n",
    "SOAP supports both stateful and stateless data exchanges.  \n",
    "\n",
    "The disadvantages of the SOAP protocols are:\n",
    "\n",
    "    SOAP is used only XML format data in web service, whereas JSON and other lightweight formats are not supported by it.\n",
    "    It is slow because it uses XML format, whereas the payload for a simple string message is large.\n",
    "    There are no security features in the SOAP specification.\n",
    "    There is no state reference for the remote object in the SOAP client."
   ]
  },
  {
   "cell_type": "markdown",
   "id": "c61c6fbe-8140-4091-a17f-b9b539c3eab1",
   "metadata": {},
   "source": [
    "Q5. Differentiate between REST and SOAP.  \n",
    "|SOAP API|\tREST API|\n",
    "|--------|----------|\n",
    "|Relies on SOAP (Simple Object Access Protocol)|\tRelies on REST (Representational State Transfer) architecture using HTTP.|\n",
    "|Transports data in standard XML format.|\tGenerally transports data in JSON. It is based on URI. Because REST follows stateless model, REST does not enforces message format as XML or JSON etc.|\n",
    "|Because it is XML based and relies on SOAP, it works with WSDL|\tIt works with GET, POST, PUT, DELETE|\n",
    "|Works over HTTP, HTTPS, SMTP, XMPP\t|Works over HTTP and HTTPS|\n",
    "|Highly structured/typed|\tLess structured -> less bulky data|\n",
    "|Designed with large enterprise applications in mind|\tDesigned with mobile devices in mind|\n"
   ]
  },
  {
   "cell_type": "code",
   "execution_count": null,
   "id": "b14cad75-a77f-40fd-b089-f84b95f5d8c3",
   "metadata": {},
   "outputs": [],
   "source": []
  }
 ],
 "metadata": {
  "kernelspec": {
   "display_name": "Python 3 (ipykernel)",
   "language": "python",
   "name": "python3"
  },
  "language_info": {
   "codemirror_mode": {
    "name": "ipython",
    "version": 3
   },
   "file_extension": ".py",
   "mimetype": "text/x-python",
   "name": "python",
   "nbconvert_exporter": "python",
   "pygments_lexer": "ipython3",
   "version": "3.10.8"
  }
 },
 "nbformat": 4,
 "nbformat_minor": 5
}
