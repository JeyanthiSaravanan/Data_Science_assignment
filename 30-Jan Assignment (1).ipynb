{
 "cells": [
  {
   "cell_type": "code",
   "execution_count": 4,
   "id": "bc151679-c449-46f8-99b0-942e258f2054",
   "metadata": {},
   "outputs": [
    {
     "data": {
      "text/plain": [
       "' Write a program to accept percentage from the user and display the grade according to the following criteria:\\n>90 A \\n>80 and <=90 B \\n>=60 and <=80 C\\nbelow 60 D'"
      ]
     },
     "execution_count": 4,
     "metadata": {},
     "output_type": "execute_result"
    }
   ],
   "source": [
    "''' Write a program to accept percentage from the user and display the grade according to the following criteria:\n",
    ">90 A \n",
    ">80 and <=90 B \n",
    ">=60 and <=80 C\n",
    "below 60 D''' \n"
   ]
  },
  {
   "cell_type": "code",
   "execution_count": 8,
   "id": "362ac45d-929f-4911-82c3-25d6f62d12b2",
   "metadata": {},
   "outputs": [
    {
     "name": "stdin",
     "output_type": "stream",
     "text": [
      "Enter the percentage 95\n"
     ]
    },
    {
     "name": "stdout",
     "output_type": "stream",
     "text": [
      "Grade : A\n"
     ]
    }
   ],
   "source": [
    "percentage=int(input(\"Enter the percentage\"))\n",
    "if percentage > 90:\n",
    "    print(\"Grade : A\")\n",
    "elif percentage>80 and percentage<=90:\n",
    "    print(\"Grade : B\")\n",
    "elif percentage>=60 and percentage<=80:\n",
    "    print(\"Grade : C\")\n",
    "else:\n",
    "    print(\"Grade : D\")"
   ]
  },
  {
   "cell_type": "code",
   "execution_count": null,
   "id": "d39b6e70-b8ff-4b37-b839-1e424397883d",
   "metadata": {},
   "outputs": [],
   "source": [
    "''' 2) Write a program to accept the cost price of a bike and display the road tax to be paid according to the following criteria:\n",
    "Tax                  cost price\n",
    "15%                    >100000\n",
    "10%                    >50000 and<= 100000\n",
    "5%                     <=50000\n",
    "'''"
   ]
  },
  {
   "cell_type": "code",
   "execution_count": 10,
   "id": "437e9bdf-a5b2-4688-8e57-b0dbcb25b729",
   "metadata": {},
   "outputs": [
    {
     "name": "stdin",
     "output_type": "stream",
     "text": [
      "Enter the price 75000\n"
     ]
    },
    {
     "name": "stdout",
     "output_type": "stream",
     "text": [
      "Tax to be paid :10%\n"
     ]
    }
   ],
   "source": [
    "bike_price=int(input(\"Enter the price\"))\n",
    "if bike_price>100000:\n",
    "    print(\"Tax to be paid :15%\")\n",
    "elif bike_price>50000 and bike_price<=100000:\n",
    "    print(\"Tax to be paid :10%\")\n",
    "else:\n",
    "    print(\"Tax to be paid :5%\")\n",
    "               \n",
    "               \n",
    "               "
   ]
  },
  {
   "cell_type": "code",
   "execution_count": null,
   "id": "7737b187-9864-44e4-8d8d-70bcb9367082",
   "metadata": {},
   "outputs": [],
   "source": [
    "'''3) Accept any city from the user and display monuments of that city.\n",
    "Delhi   Redfort\n",
    "Agra    Taj Mahal\n",
    "Jaipur   Jai Mahal'''"
   ]
  },
  {
   "cell_type": "code",
   "execution_count": 15,
   "id": "fdb06d11-f8c2-496e-8929-85f049c771a8",
   "metadata": {},
   "outputs": [
    {
     "name": "stdin",
     "output_type": "stream",
     "text": [
      "Enter any city from the given list - \n",
      "(Delhi, Agra, Jaipur)\n",
      " Agra\n"
     ]
    },
    {
     "name": "stdout",
     "output_type": "stream",
     "text": [
      "Taj Mahal\n"
     ]
    }
   ],
   "source": [
    "city=input(\"Enter any city from the given list - \\n(Delhi, Agra, Jaipur)\\n\")\n",
    "if city==\"Delhi\":\n",
    "    print(\"Red fort\")\n",
    "elif city==\"Agra\":\n",
    "    print(\"Taj Mahal\")\n",
    "else:\n",
    "    print(\"JaiMahal\")\n",
    "\n"
   ]
  },
  {
   "cell_type": "code",
   "execution_count": null,
   "id": "9abe108f-10fd-4bd6-80e4-3a670d035678",
   "metadata": {},
   "outputs": [],
   "source": [
    "#4) Check how many times a given number can be divided  by 3 before it is less than or equal to 10"
   ]
  },
  {
   "cell_type": "code",
   "execution_count": 29,
   "id": "27d42e67-8091-45a8-abe6-d665b5f67dc5",
   "metadata": {},
   "outputs": [
    {
     "name": "stdin",
     "output_type": "stream",
     "text": [
      " 24\n"
     ]
    },
    {
     "name": "stdout",
     "output_type": "stream",
     "text": [
      "8.0\n"
     ]
    }
   ],
   "source": [
    "num=int(input())\n",
    "ans=num/3\n",
    "if ans<=10:\n",
    "    print(ans)\n",
    "else:\n",
    "    print(\"The given number can be divided by 3 more than 10 times\")"
   ]
  },
  {
   "cell_type": "code",
   "execution_count": null,
   "id": "4b26df98-934e-4974-a33a-ede654c05039",
   "metadata": {},
   "outputs": [],
   "source": [
    "#5) Why and when to use while loop in python give a detailed description with example"
   ]
  },
  {
   "cell_type": "code",
   "execution_count": 30,
   "id": "3cfc5f01-25e0-4996-acbf-aa37dbef1326",
   "metadata": {},
   "outputs": [
    {
     "name": "stdout",
     "output_type": "stream",
     "text": [
      "1\n",
      "2\n",
      "3\n",
      "4\n",
      "5\n"
     ]
    }
   ],
   "source": [
    "##Python while loop is used to run a block code until a certain condition is met. Here, A while loop evaluates the condition. If the condition evaluates to True , the code inside the while loop is executed.\n",
    "#Example: Displaying numbers from 1 to 5\n",
    "i=0\n",
    "n=5\n",
    "while i<n:\n",
    "    i+=1\n",
    "    print(i)\n"
   ]
  },
  {
   "cell_type": "code",
   "execution_count": null,
   "id": "7ffda00c-7966-4d75-ace7-33f9e0ed59b8",
   "metadata": {},
   "outputs": [],
   "source": []
  },
  {
   "cell_type": "code",
   "execution_count": 41,
   "id": "230f6dff-32f0-4250-940c-e2b88672a4f4",
   "metadata": {},
   "outputs": [
    {
     "name": "stdout",
     "output_type": "stream",
     "text": [
      "* \n",
      "* * \n",
      "* * * \n",
      "* * * * \n",
      "* * * * * \n"
     ]
    }
   ],
   "source": [
    "#6)Use nested while loop to print 3 different pattern\n",
    "\n",
    "# pattern 1\n",
    "i=1\n",
    "while i<=5:\n",
    "    j=1\n",
    "    while j<=i:\n",
    "        print(\"*\",end=\" \")\n",
    "        j+=1\n",
    "    print()\n",
    "    i+=1\n",
    "    "
   ]
  },
  {
   "cell_type": "code",
   "execution_count": 45,
   "id": "1fb40670-2d30-4105-aec1-84cfdea5a465",
   "metadata": {},
   "outputs": [
    {
     "name": "stdout",
     "output_type": "stream",
     "text": [
      "* * * * * \n",
      "* * * * \n",
      "* * * \n",
      "* * \n",
      "* \n"
     ]
    }
   ],
   "source": [
    "#pattern 2\n",
    "i=1\n",
    "while i<=5:\n",
    "    j=5\n",
    "    while j>=i:\n",
    "        print(\"*\",end=\" \")\n",
    "        j-=1\n",
    "    print()\n",
    "    i+=1"
   ]
  },
  {
   "cell_type": "code",
   "execution_count": 84,
   "id": "cf18edc0-5fb5-4c33-a0c3-500695066830",
   "metadata": {},
   "outputs": [
    {
     "name": "stdout",
     "output_type": "stream",
     "text": [
      "        * \n",
      "      * * \n",
      "    * * * \n",
      "  * * * * \n",
      "* * * * * \n"
     ]
    }
   ],
   "source": [
    "#pattern 3\n",
    "n=5\n",
    "i=1\n",
    "while i<=n:\n",
    "    j=5\n",
    "    while j>i:\n",
    "        print(\" \",end=\" \")\n",
    "        j-=1\n",
    "    print(\"* \"*i)\n",
    "    i+=1"
   ]
  },
  {
   "cell_type": "code",
   "execution_count": 98,
   "id": "2a09fc02-1032-41e0-9325-b52c4494d068",
   "metadata": {},
   "outputs": [
    {
     "name": "stdout",
     "output_type": "stream",
     "text": [
      "10\n",
      "9\n",
      "8\n",
      "7\n",
      "6\n",
      "5\n",
      "4\n",
      "3\n",
      "2\n",
      "1\n"
     ]
    }
   ],
   "source": [
    "#Reverse a while loop \n",
    "i=10\n",
    "n=1\n",
    "while i>=n:\n",
    "    print(i)\n",
    "    i-=1\n",
    "    "
   ]
  },
  {
   "cell_type": "code",
   "execution_count": null,
   "id": "cf2fbb98-fce5-4d78-ab72-8bda3b86279a",
   "metadata": {},
   "outputs": [],
   "source": []
  },
  {
   "cell_type": "code",
   "execution_count": null,
   "id": "cec7c15c-1312-48d0-b8ca-5caacbaf252e",
   "metadata": {},
   "outputs": [],
   "source": []
  },
  {
   "cell_type": "code",
   "execution_count": null,
   "id": "5ebcc382-4d3e-4ee3-bf15-ff31c717e376",
   "metadata": {},
   "outputs": [],
   "source": []
  },
  {
   "cell_type": "code",
   "execution_count": null,
   "id": "82522329-5aa4-41a9-875f-9c4fcb4bc756",
   "metadata": {},
   "outputs": [],
   "source": []
  },
  {
   "cell_type": "code",
   "execution_count": null,
   "id": "95cbe137-19bd-4fdf-b619-dfa4d6d052d7",
   "metadata": {},
   "outputs": [],
   "source": []
  },
  {
   "cell_type": "code",
   "execution_count": null,
   "id": "92609dc9-c78e-4351-bcdf-dc2a1f3a9683",
   "metadata": {},
   "outputs": [],
   "source": []
  },
  {
   "cell_type": "code",
   "execution_count": null,
   "id": "34a39ec2-afdb-43dd-953a-abcc844bf896",
   "metadata": {},
   "outputs": [],
   "source": []
  },
  {
   "cell_type": "code",
   "execution_count": null,
   "id": "e19cda49-d0f1-475f-957e-4526bcae1fb1",
   "metadata": {},
   "outputs": [],
   "source": []
  },
  {
   "cell_type": "code",
   "execution_count": null,
   "id": "c9d5395f-a5a5-4769-9811-2791adcd18e5",
   "metadata": {},
   "outputs": [],
   "source": []
  },
  {
   "cell_type": "code",
   "execution_count": null,
   "id": "1c02bc1e-aaa6-427e-bd7b-52f2aad6cc84",
   "metadata": {},
   "outputs": [],
   "source": []
  },
  {
   "cell_type": "code",
   "execution_count": null,
   "id": "e61978f9-bf27-4337-8fee-44f3319fbe2b",
   "metadata": {},
   "outputs": [],
   "source": []
  },
  {
   "cell_type": "code",
   "execution_count": null,
   "id": "21cfa285-9d22-46de-a351-fed0c4a5d9d3",
   "metadata": {},
   "outputs": [],
   "source": []
  },
  {
   "cell_type": "code",
   "execution_count": null,
   "id": "19023b19-da01-4074-8bbb-25e4f8316148",
   "metadata": {},
   "outputs": [],
   "source": []
  },
  {
   "cell_type": "code",
   "execution_count": null,
   "id": "d7d88b18-20d5-4a2d-8fb7-ea7daf91e2bd",
   "metadata": {},
   "outputs": [],
   "source": []
  }
 ],
 "metadata": {
  "kernelspec": {
   "display_name": "Python 3 (ipykernel)",
   "language": "python",
   "name": "python3"
  },
  "language_info": {
   "codemirror_mode": {
    "name": "ipython",
    "version": 3
   },
   "file_extension": ".py",
   "mimetype": "text/x-python",
   "name": "python",
   "nbconvert_exporter": "python",
   "pygments_lexer": "ipython3",
   "version": "3.10.8"
  }
 },
 "nbformat": 4,
 "nbformat_minor": 5
}
