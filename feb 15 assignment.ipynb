{
 "cells": [
  {
   "cell_type": "markdown",
   "id": "e9c2d82d-1bf8-4775-92f1-f2d04c5d14e6",
   "metadata": {},
   "source": [
    "Q1. What is multiprocessing in python? Why is it useful?  \n",
    "Multiprocessing in Python is a built-in package that allows the system to run multiple processes simultaneously. It will enable the breaking of applications into smaller threads that can run independently. The operating system can then allocate all these threads or processes to the processor to run them parallelly, thus improving the overall performance and efficiency.The Python multiprocessing module provides multiple classes that allow us to build parallel programs to implement multiprocessing in Python. It offers an easy-to-use API for dividing processes between many processors, thereby fully leveraging multiprocessing. It overcomes the limitations of Global Interpreter Lock (GIL) by using sub-processes instead of threads. \n",
    "\n",
    "Performing multiple operations for a single processor becomes challenging. As the number of processes keeps increasing, the processor will have to halt the current process and move to the next, to keep them going. Thus, it will have to interrupt each task, thereby hampering the performance.  In multiprocessing, the system can divide and assign tasks to different processors."
   ]
  },
  {
   "cell_type": "markdown",
   "id": "d80aa848-5e7f-467c-b9b9-d236320f8d61",
   "metadata": {},
   "source": [
    "Q2. What are the differences between multiprocessing and multithreading?  \n",
    "\n",
    "Multithreading is a technique where multiple threads are spawned by a process to do different tasks, at about the same time, just one after the other. This gives you the illusion that the threads are running in parallel, but they are actually run in a concurrent manner. In Python, the Global Interpreter Lock (GIL) prevents the threads from running simultaneously.  \n",
    "\n",
    "Multiprocessing is a technique where parallelism in its truest form is achieved. Multiple processes are run across multiple CPU cores, which do not share the resources among them. Each process can have many threads running in its own memory space. In Python, each process has its own instance of Python interpreter doing the job of executing the instructions."
   ]
  },
  {
   "cell_type": "markdown",
   "id": "235fe1b6-1947-479f-89b6-a2e7216b810c",
   "metadata": {},
   "source": [
    "Q3. Write a python code to create a process using the multiprocessing module."
   ]
  },
  {
   "cell_type": "code",
   "execution_count": 5,
   "id": "1b5ea206-dc2f-4f3b-8da7-502317cc8503",
   "metadata": {},
   "outputs": [
    {
     "name": "stdout",
     "output_type": "stream",
     "text": [
      "[800, 1200, 1600, 400, 480, 560, 360, 680, 720, 120, 308, 576, 520, 744, 816]\n"
     ]
    }
   ],
   "source": [
    "import multiprocessing\n",
    "\n",
    "def discount(index, price):\n",
    "    price[index]=int(price[index]-(price[index]*0.2))\n",
    "if __name__=='__main__':\n",
    "    arr=multiprocessing.Array('i', [1000, 1500, 2000, 500, 600, 700, 450, 850, 900,150, 385, 720, 650, 930, 1020])\n",
    "    pro= []\n",
    "    for i in range(15):\n",
    "        m=multiprocessing.Process(target=discount, args=(i, arr ))\n",
    "        pro.append(m)\n",
    "        m.start()\n",
    "    for m in pro:\n",
    "        m.join()\n",
    "    print(list(arr))\n",
    "                              \n",
    "                        \n"
   ]
  },
  {
   "cell_type": "markdown",
   "id": "0882d300-c2e4-41a5-8440-8d5d0920a912",
   "metadata": {},
   "source": [
    "Q4. What is a multiprocessing pool in python? Why is it used?"
   ]
  },
  {
   "cell_type": "markdown",
   "id": "025ff22d-e800-43a2-a0de-e0bd1fe8547b",
   "metadata": {},
   "source": [
    "A process pool object which controls a pool of worker processes to which jobs can be submitted. It supports asynchronous results with timeouts and callbacks and has a parallel map implementation. The pool is responsible for a fixed number of processes.\n",
    "\n",
    "It controls when they are created, such as when they are needed.\n",
    "It also controls what they should do when they are not being used, such as making them wait without consuming computational resources.  \n",
    "The multiprocessing.pool.Pool class can also be accessed by the alias multiprocessing.Pool. They can be used interchangeably.\n",
    "\n",
    "It allows tasks to be submitted as functions to the process pool to be executed concurrently."
   ]
  },
  {
   "cell_type": "markdown",
   "id": "a209d8d6-462d-43c3-9f59-9625ef9feab8",
   "metadata": {},
   "source": [
    " Q5. How can we create a pool of worker processes in python using the multiprocessing module?"
   ]
  },
  {
   "cell_type": "code",
   "execution_count": 8,
   "id": "f38c3e5e-f852-4c05-a984-2ed574b9d21a",
   "metadata": {},
   "outputs": [
    {
     "name": "stdout",
     "output_type": "stream",
     "text": [
      "['DHANYA', 'DHURU', 'DEV', 'DIVYA', 'DEEKSHA']\n"
     ]
    }
   ],
   "source": [
    "#We can set the “processes” argument to specify the number of child processes to create and use as workers in the process pool.\n",
    "def upper_case(n):\n",
    "    return n.upper()\n",
    "if __name__=='__main__':\n",
    "    with multiprocessing.Pool(processes=5) as pool:\n",
    "        result=pool.map(upper_case, ['dhanya','dhuru', 'dev','divya','deeksha'])\n",
    "        print(result)"
   ]
  },
  {
   "cell_type": "markdown",
   "id": "8654b6af-f4ce-4786-a329-9f0bc2b2df7d",
   "metadata": {},
   "source": [
    "Q6. Write a python program to create 4 processes, each process should print a different number using the\n",
    "multiprocessing module in python."
   ]
  },
  {
   "cell_type": "code",
   "execution_count": 18,
   "id": "f3196824-f959-42d4-a02d-bf5bcf49fd19",
   "metadata": {},
   "outputs": [
    {
     "name": "stdout",
     "output_type": "stream",
     "text": [
      "Process Process-45: 0\n",
      "Process Process-46: 1\n",
      "Process Process-47: 2\n",
      "Process Process-48: 3\n"
     ]
    }
   ],
   "source": [
    "import multiprocessing\n",
    "\n",
    "def print_number(num):\n",
    "    print(\"Process %s: %s\" % (multiprocessing.current_process().name, num))\n",
    "\n",
    "if __name__ == '__main__':\n",
    "    processes = []\n",
    "    for i in range(4):\n",
    "        process = multiprocessing.Process(target=print_number, args=(i,))\n",
    "        processes.append(process)\n",
    "        process.start()\n",
    "        process.join()"
   ]
  },
  {
   "cell_type": "code",
   "execution_count": null,
   "id": "7d31d9a9-f287-4435-857e-77c08a705619",
   "metadata": {},
   "outputs": [],
   "source": [
    "  "
   ]
  }
 ],
 "metadata": {
  "kernelspec": {
   "display_name": "Python 3 (ipykernel)",
   "language": "python",
   "name": "python3"
  },
  "language_info": {
   "codemirror_mode": {
    "name": "ipython",
    "version": 3
   },
   "file_extension": ".py",
   "mimetype": "text/x-python",
   "name": "python",
   "nbconvert_exporter": "python",
   "pygments_lexer": "ipython3",
   "version": "3.10.8"
  }
 },
 "nbformat": 4,
 "nbformat_minor": 5
}
